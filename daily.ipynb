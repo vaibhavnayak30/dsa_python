{
 "cells": [
  {
   "cell_type": "markdown",
   "id": "7e8b4de6",
   "metadata": {},
   "source": [
    "## Water Bottles (LC-1518)"
   ]
  },
  {
   "cell_type": "code",
   "execution_count": null,
   "id": "87613d4b",
   "metadata": {},
   "outputs": [],
   "source": [
    "class Solution:\n",
    "    def numWaterBottles(self, numBottles: int, numExchange: int) -> int:\n",
    "        # Initiate the variables \n",
    "        filled = numBottles\n",
    "        empty = 0\n",
    "        result = 0\n",
    "        \n",
    "        # Loop until there is single filled bottle present \n",
    "        while filled > 0:\n",
    "            # Empty the filled bottle and increment empty counter \n",
    "            empty += filled\n",
    "\n",
    "            # Increment the bottle drank up \n",
    "            result += filled\n",
    "            filled = 0\n",
    "\n",
    "            # Check if exchanges can be made \n",
    "            while empty >= numExchange:\n",
    "                # Get filled bottles post exchanges \n",
    "                empty -= numExchange\n",
    "                # Increment the filled counter\n",
    "                filled += 1\n",
    "        \n",
    "        return result\n",
    "    \n",
    "\n",
    "sol = Solution()\n",
    "sol.numWaterBottles(numBottles = 15, numExchange = 4)"
   ]
  },
  {
   "cell_type": "markdown",
   "id": "9b0ab7bb",
   "metadata": {},
   "source": [
    "## Water Bottles II (LC-3100)"
   ]
  },
  {
   "cell_type": "code",
   "execution_count": null,
   "id": "737d8afa",
   "metadata": {},
   "outputs": [],
   "source": [
    "class Solution:\n",
    "    def maxBottlesDrunk(self, numBottles: int, numExchange: int) -> int:\n",
    "        # Initialise the variables \n",
    "        filled = numBottles\n",
    "        empty = 0\n",
    "        result = 0\n",
    "\n",
    "        # Loop until there is sinlge filled bottle\n",
    "        while filled > 0:\n",
    "            # Drink all the available filled bottles \n",
    "            result += filled\n",
    "\n",
    "            # Increment empty counter and reduce filled \n",
    "            empty += filled\n",
    "            filled = 0\n",
    "\n",
    "            # Check if empty bottles are more than exchanges that can be made\n",
    "            if empty >= numExchange:\n",
    "                # Exchange empty for filled \n",
    "                filled += 1\n",
    "                # Reduce count of empty \n",
    "                empty -= numExchange\n",
    "                # Increment numExchange \n",
    "                numExchange += 1\n",
    "\n",
    "        return result\n",
    "\n",
    "sol = Solution()\n",
    "sol.maxBottlesDrunk(numBottles = 10, numExchange = 3)"
   ]
  },
  {
   "cell_type": "markdown",
   "id": "4c4d7607",
   "metadata": {},
   "source": [
    "## Pacific Atlantic Water Flow (LC-417)"
   ]
  },
  {
   "cell_type": "code",
   "execution_count": null,
   "id": "c03ceb4f",
   "metadata": {},
   "outputs": [],
   "source": [
    "from typing import List\n",
    "\n",
    "class Solution:\n",
    "    def pacificAtlantic(self, heights: List[List[int]]) -> List[List[int]]:\n",
    "        # Get the dimensions of the array \n",
    "        rows, cols= len(heights), len(heights[0])\n",
    "\n",
    "        # Create dummy array for marking water flow for that oceans\n",
    "        pacific = [[False]*cols for _ in range(rows)]\n",
    "        atlantic = [[False]*cols for _ in range(rows)]\n",
    "\n",
    "        # Define the dfs funciton\n",
    "        def dfs(curr_row, curr_col, visited):\n",
    "            # Check if this node is visited\n",
    "            if visited[curr_row][curr_col]:\n",
    "                return\n",
    "            \n",
    "            # Mark the current as visited \n",
    "            visited[curr_row][curr_col] = True\n",
    "            \n",
    "            # Define the next possible node change \n",
    "            changes = [(-1,0), (1,0), (0,-1), (0,1)]\n",
    "\n",
    "            # Loop through them \n",
    "            for dr, dc in changes:\n",
    "                new_row = curr_row+dr\n",
    "                new_col = curr_col+dc\n",
    "                # Check for conditions \n",
    "                if 0 <= new_row < rows and 0 <= new_col < cols and heights[new_row][new_col] >= heights[curr_row][curr_col]:\n",
    "                    # Regression to this new row and col\n",
    "                    dfs(new_row, new_col, visited)\n",
    "\n",
    "        # Traverse top from each point in pacific\n",
    "        for i in range(cols):\n",
    "            dfs(0, i, pacific)\n",
    "\n",
    "        for j in range(rows):\n",
    "            dfs(j, 0, pacific)\n",
    "\n",
    "        # Traverse top from each point in atlantic\n",
    "        for i in range(rows):\n",
    "            dfs(i, cols-1, atlantic)\n",
    "        \n",
    "        for j in range(cols):\n",
    "            dfs(rows-1, j, atlantic)\n",
    "\n",
    "        # Check for matching rows and cols \n",
    "        results = []\n",
    "        for row in range(rows):\n",
    "            for col in range(cols):\n",
    "                if pacific[row][col] and atlantic[row][col]:\n",
    "                    # Append to results \n",
    "                    results.append((row, col))\n",
    "        \n",
    "        return results\n",
    "\n",
    "sol = Solution()\n",
    "sol.pacificAtlantic(heights = [[1,2,2,3,5],[3,2,3,4,4],[2,4,5,3,1],[6,7,1,4,5],[5,1,1,2,4]])"
   ]
  },
  {
   "cell_type": "markdown",
   "id": "9a2bb526",
   "metadata": {},
   "source": [
    "## Swim in Rising Water (LC-778)"
   ]
  },
  {
   "cell_type": "markdown",
   "id": "4a65e651",
   "metadata": {},
   "source": [
    "#### Not Accurate"
   ]
  },
  {
   "cell_type": "code",
   "execution_count": null,
   "id": "5d29a9fc",
   "metadata": {},
   "outputs": [
    {
     "data": {
      "text/plain": [
       "15"
      ]
     },
     "execution_count": 59,
     "metadata": {},
     "output_type": "execute_result"
    }
   ],
   "source": [
    "import heapq\n",
    "\n",
    "class Solution:\n",
    "    def swimInWater(self, grid: List[List[int]]) -> int:\n",
    "        # Calculate number of rows and columns \n",
    "        all_rows, all_cols = len(grid), len(grid[0])\n",
    "        \n",
    "        # Mark the starting nodes \n",
    "        row, col = 0, 0 \n",
    "\n",
    "        # Create a set to mark a node as visited \n",
    "        visited = set()\n",
    "\n",
    "        # Write dfs \n",
    "        def dfs(row, col, visited, max_val):\n",
    "            # Mark the node as visited \n",
    "            visited.add(grid[row][col])\n",
    "\n",
    "            # Check if end is reached \n",
    "            if row == all_rows -1 and col == all_cols -1:\n",
    "                # Reached end\n",
    "                return max_val\n",
    "\n",
    "            # Check for all possible dierections that can be traversed \n",
    "            directions = [(1,0),(-1,0),(0,1),(0,-1)]\n",
    "\n",
    "            # For each position create a new heap to get the minimum \n",
    "            heap = []\n",
    "\n",
    "            # Loop through the direcitons \n",
    "            for dr, dc in directions:\n",
    "                # Calculate new values \n",
    "                new_row = row+dr\n",
    "                new_col = col+dc\n",
    "\n",
    "                # Check if it lies within boundary \n",
    "                if 0 <= new_row < all_rows and 0 <= new_col < all_cols:\n",
    "                    if grid[new_row][new_col] not in visited:\n",
    "                        # Add the node to heap\n",
    "                        heapq.heappush(heap, (grid[new_row][new_col], (new_row, new_col)))\n",
    "\n",
    "            # Get the minimum from the heap and use dfs \n",
    "            val, coord =  heapq.heappop(heap)\n",
    "\n",
    "            # Compare the max\n",
    "            max_val = max(max_val, val)\n",
    "\n",
    "            # Get the coordinates\n",
    "            r,c = coord\n",
    "\n",
    "            # Rerun the dfs\n",
    "            return dfs(r, c, visited, max_val)\n",
    "    \n",
    "        # Start the dfs \n",
    "        return dfs(row, col, visited, grid[row][col])\n",
    "\n",
    "sol = Solution()\n",
    "sol.swimInWater(grid = [[10,12,4,6],[9,11,3,5],[1,7,13,8],[2,0,15,14]])\n"
   ]
  },
  {
   "cell_type": "code",
   "execution_count": null,
   "id": "035c3302",
   "metadata": {},
   "outputs": [],
   "source": [
    "class Solution:\n",
    "    def swimInWater(self, grid: List[List[int]]) -> int:\n",
    "        # Initialise variables \n",
    "        total_rows, total_cols = len(grid), len(grid[0])\n",
    "        result = grid[0][0]\n",
    "        visited = set()\n",
    "        directions = [(-1,0),(1,0),(0,-1),(0,1)]\n",
    "        heap = [(grid[0][0], 0,0)]\n",
    "\n",
    "        # Start the loop to fetch elements from heap \n",
    "        while heap:\n",
    "            # Pull the first element from the heap \n",
    "            t, r, c = heapq.heappop(heap)\n",
    "\n",
    "            # Check for results \n",
    "            result = max(result, t)\n",
    "\n",
    "            # Check if its the end \n",
    "            if r == total_rows - 1 and c == total_cols - 1:\n",
    "                return result\n",
    "\n",
    "            # Check if it has been visited\n",
    "            if (r,c) in visited:\n",
    "                continue\n",
    "\n",
    "            # Mark the node as visited\n",
    "            visited.add((r,c))\n",
    "\n",
    "            for dr, dc in directions:\n",
    "                # Get the values of new row and column\n",
    "                nr, nc = r+dr, c+dc\n",
    "\n",
    "                # Check for its boundary conditions \n",
    "                if 0 <= nr < total_rows and 0 <= nc < total_cols and (nr,nc) not in visited:\n",
    "                    # Add to heap \n",
    "                    heapq.heappush(heap, (grid[nr][nc], nr, nc))\n",
    "                    \n",
    "        return result"
   ]
  },
  {
   "cell_type": "markdown",
   "id": "f09b77c5",
   "metadata": {},
   "source": [
    "## Avoid Flood in The City (LC-1488)"
   ]
  },
  {
   "cell_type": "markdown",
   "id": "5f9cc27d",
   "metadata": {},
   "source": [
    "#### 1. My Approach (Not optimal)"
   ]
  },
  {
   "cell_type": "code",
   "execution_count": 12,
   "id": "dca92b45",
   "metadata": {},
   "outputs": [
    {
     "data": {
      "text/plain": [
       "[-1, 69, 1, 1, -1]"
      ]
     },
     "execution_count": 12,
     "metadata": {},
     "output_type": "execute_result"
    }
   ],
   "source": [
    "from collections import deque\n",
    "from typing import List\n",
    "\n",
    "class Solution:\n",
    "    def avoidFlood(self, rains: List[int]) -> List[int]:\n",
    "        # Initialise the queue\n",
    "        queue = deque()\n",
    "        result = []\n",
    "\n",
    "        #  Loop through the array \n",
    "        for rain in rains:\n",
    "            # Check for no rain condition\n",
    "            if rain == 0:\n",
    "                if queue:\n",
    "                    # Day is dry, lake can be dried\n",
    "                    # Fetch one lake from queue\n",
    "                    dried_lake = queue.popleft()\n",
    "                    # Append the result\n",
    "                    result.append(dried_lake)\n",
    "                    continue\n",
    "\n",
    "                else:\n",
    "                    result.append(1)\n",
    "                    continue\n",
    "            \n",
    "            # Append the lake number in the queue if not present \n",
    "            # Check if its already present \n",
    "            if rain not in queue:\n",
    "                queue.append(rain)\n",
    "                # Add -1 to result \n",
    "                result.append(-1)\n",
    "\n",
    "            else:\n",
    "                # Flooding will happen in that lake\n",
    "                return []\n",
    "            \n",
    "        return result\n",
    "    \n",
    "\n",
    "sol = Solution()\n",
    "sol.avoidFlood(rains = [69,0,0,0,69])\n"
   ]
  },
  {
   "cell_type": "markdown",
   "id": "52f33b7f",
   "metadata": {},
   "source": [
    "#### 2. Optimal Solution"
   ]
  },
  {
   "cell_type": "code",
   "execution_count": null,
   "id": "aa6b38c0",
   "metadata": {},
   "outputs": [],
   "source": []
  }
 ],
 "metadata": {
  "kernelspec": {
   "display_name": "general",
   "language": "python",
   "name": "python3"
  },
  "language_info": {
   "codemirror_mode": {
    "name": "ipython",
    "version": 3
   },
   "file_extension": ".py",
   "mimetype": "text/x-python",
   "name": "python",
   "nbconvert_exporter": "python",
   "pygments_lexer": "ipython3",
   "version": "3.11.13"
  }
 },
 "nbformat": 4,
 "nbformat_minor": 5
}
