{
 "cells": [
  {
   "cell_type": "markdown",
   "id": "7e8b4de6",
   "metadata": {},
   "source": [
    "## Water Bottles (LC-1518)"
   ]
  },
  {
   "cell_type": "code",
   "execution_count": null,
   "id": "87613d4b",
   "metadata": {},
   "outputs": [],
   "source": [
    "class Solution:\n",
    "    def numWaterBottles(self, numBottles: int, numExchange: int) -> int:\n",
    "        # Initiate the variables \n",
    "        filled = numBottles\n",
    "        empty = 0\n",
    "        result = 0\n",
    "        \n",
    "        # Loop until there is single filled bottle present \n",
    "        while filled > 0:\n",
    "            # Empty the filled bottle and increment empty counter \n",
    "            empty += filled\n",
    "\n",
    "            # Increment the bottle drank up \n",
    "            result += filled\n",
    "            filled = 0\n",
    "\n",
    "            # Check if exchanges can be made \n",
    "            while empty >= numExchange:\n",
    "                # Get filled bottles post exchanges \n",
    "                empty -= numExchange\n",
    "                # Increment the filled counter\n",
    "                filled += 1\n",
    "        \n",
    "        return result\n",
    "    \n",
    "\n",
    "sol = Solution()\n",
    "sol.numWaterBottles(numBottles = 15, numExchange = 4)"
   ]
  },
  {
   "cell_type": "markdown",
   "id": "9b0ab7bb",
   "metadata": {},
   "source": [
    "## Water Bottles II (LC-3100)"
   ]
  },
  {
   "cell_type": "code",
   "execution_count": null,
   "id": "737d8afa",
   "metadata": {},
   "outputs": [],
   "source": [
    "class Solution:\n",
    "    def maxBottlesDrunk(self, numBottles: int, numExchange: int) -> int:\n",
    "        # Initialise the variables \n",
    "        filled = numBottles\n",
    "        empty = 0\n",
    "        result = 0\n",
    "\n",
    "        # Loop until there is sinlge filled bottle\n",
    "        while filled > 0:\n",
    "            # Drink all the available filled bottles \n",
    "            result += filled\n",
    "\n",
    "            # Increment empty counter and reduce filled \n",
    "            empty += filled\n",
    "            filled = 0\n",
    "\n",
    "            # Check if empty bottles are more than exchanges that can be made\n",
    "            if empty >= numExchange:\n",
    "                # Exchange empty for filled \n",
    "                filled += 1\n",
    "                # Reduce count of empty \n",
    "                empty -= numExchange\n",
    "                # Increment numExchange \n",
    "                numExchange += 1\n",
    "\n",
    "        return result\n",
    "\n",
    "sol = Solution()\n",
    "sol.maxBottlesDrunk(numBottles = 10, numExchange = 3)"
   ]
  },
  {
   "cell_type": "markdown",
   "id": "4c4d7607",
   "metadata": {},
   "source": [
    "## Pacific Atlantic Water Flow (LC-417)"
   ]
  },
  {
   "cell_type": "code",
   "execution_count": null,
   "id": "c03ceb4f",
   "metadata": {},
   "outputs": [],
   "source": [
    "from typing import List\n",
    "\n",
    "class Solution:\n",
    "    def pacificAtlantic(self, heights: List[List[int]]) -> List[List[int]]:\n",
    "        # Get the dimensions of the array \n",
    "        rows, cols= len(heights), len(heights[0])\n",
    "\n",
    "        # Create dummy array for marking water flow for that oceans\n",
    "        pacific = [[False]*cols for _ in range(rows)]\n",
    "        atlantic = [[False]*cols for _ in range(rows)]\n",
    "\n",
    "        # Define the dfs funciton\n",
    "        def dfs(curr_row, curr_col, visited):\n",
    "            # Check if this node is visited\n",
    "            if visited[curr_row][curr_col]:\n",
    "                return\n",
    "            \n",
    "            # Mark the current as visited \n",
    "            visited[curr_row][curr_col] = True\n",
    "            \n",
    "            # Define the next possible node change \n",
    "            changes = [(-1,0), (1,0), (0,-1), (0,1)]\n",
    "\n",
    "            # Loop through them \n",
    "            for dr, dc in changes:\n",
    "                new_row = curr_row+dr\n",
    "                new_col = curr_col+dc\n",
    "                # Check for conditions \n",
    "                if 0 <= new_row < rows and 0 <= new_col < cols and heights[new_row][new_col] >= heights[curr_row][curr_col]:\n",
    "                    # Regression to this new row and col\n",
    "                    dfs(new_row, new_col, visited)\n",
    "\n",
    "        # Traverse top from each point in pacific\n",
    "        for i in range(cols):\n",
    "            dfs(0, i, pacific)\n",
    "\n",
    "        for j in range(rows):\n",
    "            dfs(j, 0, pacific)\n",
    "\n",
    "        # Traverse top from each point in atlantic\n",
    "        for i in range(rows):\n",
    "            dfs(i, cols-1, atlantic)\n",
    "        \n",
    "        for j in range(cols):\n",
    "            dfs(rows-1, j, atlantic)\n",
    "\n",
    "        # Check for matching rows and cols \n",
    "        results = []\n",
    "        for row in range(rows):\n",
    "            for col in range(cols):\n",
    "                if pacific[row][col] and atlantic[row][col]:\n",
    "                    # Append to results \n",
    "                    results.append((row, col))\n",
    "        \n",
    "        return results\n",
    "\n",
    "sol = Solution()\n",
    "sol.pacificAtlantic(heights = [[1,2,2,3,5],[3,2,3,4,4],[2,4,5,3,1],[6,7,1,4,5],[5,1,1,2,4]])"
   ]
  },
  {
   "cell_type": "code",
   "execution_count": null,
   "id": "5d29a9fc",
   "metadata": {},
   "outputs": [],
   "source": []
  }
 ],
 "metadata": {
  "kernelspec": {
   "display_name": "general",
   "language": "python",
   "name": "python3"
  },
  "language_info": {
   "codemirror_mode": {
    "name": "ipython",
    "version": 3
   },
   "file_extension": ".py",
   "mimetype": "text/x-python",
   "name": "python",
   "nbconvert_exporter": "python",
   "pygments_lexer": "ipython3",
   "version": "3.11.13"
  }
 },
 "nbformat": 4,
 "nbformat_minor": 5
}
