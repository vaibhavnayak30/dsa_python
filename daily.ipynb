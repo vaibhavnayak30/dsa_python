{
 "cells": [
  {
   "cell_type": "markdown",
   "id": "7e8b4de6",
   "metadata": {},
   "source": [
    "## Water Bottles (LC-1518)"
   ]
  },
  {
   "cell_type": "code",
   "execution_count": null,
   "id": "87613d4b",
   "metadata": {},
   "outputs": [],
   "source": [
    "class Solution:\n",
    "    def numWaterBottles(self, numBottles: int, numExchange: int) -> int:\n",
    "        # Initiate the variables \n",
    "        filled = numBottles\n",
    "        empty = 0\n",
    "        result = 0\n",
    "        \n",
    "        # Loop until there is single filled bottle present \n",
    "        while filled > 0:\n",
    "            # Empty the filled bottle and increment empty counter \n",
    "            empty += filled\n",
    "\n",
    "            # Increment the bottle drank up \n",
    "            result += filled\n",
    "            filled = 0\n",
    "\n",
    "            # Check if exchanges can be made \n",
    "            while empty >= numExchange:\n",
    "                # Get filled bottles post exchanges \n",
    "                empty -= numExchange\n",
    "                # Increment the filled counter\n",
    "                filled += 1\n",
    "        \n",
    "        return result\n",
    "    \n",
    "\n",
    "sol = Solution()\n",
    "sol.numWaterBottles(numBottles = 15, numExchange = 4)"
   ]
  },
  {
   "cell_type": "markdown",
   "id": "9b0ab7bb",
   "metadata": {},
   "source": [
    "## Water Bottles II (LC-3100)"
   ]
  },
  {
   "cell_type": "code",
   "execution_count": null,
   "id": "737d8afa",
   "metadata": {},
   "outputs": [],
   "source": [
    "class Solution:\n",
    "    def maxBottlesDrunk(self, numBottles: int, numExchange: int) -> int:\n",
    "        # Initialise the variables \n",
    "        filled = numBottles\n",
    "        empty = 0\n",
    "        result = 0\n",
    "\n",
    "        # Loop until there is sinlge filled bottle\n",
    "        while filled > 0:\n",
    "            # Drink all the available filled bottles \n",
    "            result += filled\n",
    "\n",
    "            # Increment empty counter and reduce filled \n",
    "            empty += filled\n",
    "            filled = 0\n",
    "\n",
    "            # Check if empty bottles are more than exchanges that can be made\n",
    "            if empty >= numExchange:\n",
    "                # Exchange empty for filled \n",
    "                filled += 1\n",
    "                # Reduce count of empty \n",
    "                empty -= numExchange\n",
    "                # Increment numExchange \n",
    "                numExchange += 1\n",
    "\n",
    "        return result\n",
    "\n",
    "sol = Solution()\n",
    "sol.maxBottlesDrunk(numBottles = 10, numExchange = 3)"
   ]
  },
  {
   "cell_type": "code",
   "execution_count": null,
   "id": "7f8c0998",
   "metadata": {},
   "outputs": [],
   "source": []
  }
 ],
 "metadata": {
  "kernelspec": {
   "display_name": "general",
   "language": "python",
   "name": "python3"
  },
  "language_info": {
   "codemirror_mode": {
    "name": "ipython",
    "version": 3
   },
   "file_extension": ".py",
   "mimetype": "text/x-python",
   "name": "python",
   "nbconvert_exporter": "python",
   "pygments_lexer": "ipython3",
   "version": "3.11.13"
  }
 },
 "nbformat": 4,
 "nbformat_minor": 5
}
