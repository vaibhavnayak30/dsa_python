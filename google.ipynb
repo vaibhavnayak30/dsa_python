{
 "cells": [
  {
   "cell_type": "markdown",
   "id": "8e15ac6a",
   "metadata": {},
   "source": [
    "### 2 Sum"
   ]
  },
  {
   "cell_type": "markdown",
   "id": "d19e7602",
   "metadata": {},
   "source": [
    "#### When elements have to be returned"
   ]
  },
  {
   "cell_type": "code",
   "execution_count": null,
   "id": "2108dadf",
   "metadata": {},
   "outputs": [],
   "source": [
    "from typing import List\n",
    "\n",
    "class Solution:\n",
    "    def twoSum(self, nums: List[int], target: int) -> List[int]:\n",
    "        # Sort the array \n",
    "        nums = sorted(nums)\n",
    "\n",
    "        # Initilize left and right indices\n",
    "        left = 0\n",
    "        right = len(nums) - 1\n",
    "\n",
    "        # Initialize the loop\n",
    "        while left <= right:\n",
    "            # Calculate the sum \n",
    "            curr_sum = nums[left] + nums[right]\n",
    "\n",
    "            if curr_sum == target:\n",
    "                return [nums[left], nums[right]]\n",
    "\n",
    "            elif curr_sum > target:\n",
    "                right -= 1\n",
    "\n",
    "            elif curr_sum < target:\n",
    "                left += 1\n",
    "\n",
    "\n",
    "sol = Solution()\n",
    "sol.twoSum(nums = [3,2,4], target = 6)"
   ]
  },
  {
   "cell_type": "markdown",
   "id": "d867fc22",
   "metadata": {},
   "source": [
    "#### When indices have to be returned"
   ]
  },
  {
   "cell_type": "code",
   "execution_count": null,
   "id": "20044b13",
   "metadata": {},
   "outputs": [],
   "source": [
    "class Solution:\n",
    "    def twoSum(self, nums: List[int], target: int) -> List[int]:\n",
    "        # Start the result hashmap \n",
    "        results = {}\n",
    "\n",
    "        for i, num in enumerate(nums):\n",
    "            # Calculate the difference needed \n",
    "            diff = target - num\n",
    "\n",
    "            # Check if diff exists in results \n",
    "            # If exists \n",
    "            if diff in results:\n",
    "                return [results[diff], i]\n",
    "            \n",
    "            # Else add current element with index to results \n",
    "            else:\n",
    "                results[num] = i\n",
    "\n",
    "sol = Solution()\n",
    "sol.twoSum(nums = [3,2,4], target = 6)"
   ]
  },
  {
   "cell_type": "markdown",
   "id": "67a96a56",
   "metadata": {},
   "source": [
    "### Merge Two Indices"
   ]
  },
  {
   "cell_type": "code",
   "execution_count": 20,
   "id": "c86dc7d9",
   "metadata": {},
   "outputs": [
    {
     "data": {
      "text/plain": [
       "'apbqcd'"
      ]
     },
     "execution_count": 20,
     "metadata": {},
     "output_type": "execute_result"
    }
   ],
   "source": [
    "class Solution:\n",
    "    def mergeAlternately(self, word1: str, word2: str) -> str:\n",
    "        # Calculate the lengths of each words \n",
    "        len_word1= len(word1)\n",
    "        len_word2= len(word2)\n",
    "\n",
    "        iterator = max(len_word1, len_word2)\n",
    "\n",
    "        # Iterate \n",
    "        result = []\n",
    "        for i in range(iterator):\n",
    "            # Check length of other word\n",
    "            if len(word1) > i:\n",
    "                result.append(word1[i])\n",
    "\n",
    "            if len(word2) > i:\n",
    "                result.append(word2[i])\n",
    "\n",
    "        return \"\".join(result)\n",
    "\n",
    "sol = Solution()\n",
    "sol.mergeAlternately(word1 = \"abcd\", word2 = \"pq\")"
   ]
  },
  {
   "cell_type": "code",
   "execution_count": null,
   "id": "9e947ea3",
   "metadata": {},
   "outputs": [],
   "source": []
  }
 ],
 "metadata": {
  "kernelspec": {
   "display_name": "general",
   "language": "python",
   "name": "python3"
  },
  "language_info": {
   "codemirror_mode": {
    "name": "ipython",
    "version": 3
   },
   "file_extension": ".py",
   "mimetype": "text/x-python",
   "name": "python",
   "nbconvert_exporter": "python",
   "pygments_lexer": "ipython3",
   "version": "3.11.13"
  }
 },
 "nbformat": 4,
 "nbformat_minor": 5
}
