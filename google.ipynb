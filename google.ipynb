{
 "cells": [
  {
   "cell_type": "markdown",
   "id": "8e15ac6a",
   "metadata": {},
   "source": [
    "### 2 Sum"
   ]
  },
  {
   "cell_type": "markdown",
   "id": "d19e7602",
   "metadata": {},
   "source": [
    "#### When elements have to be returned"
   ]
  },
  {
   "cell_type": "code",
   "execution_count": 10,
   "id": "2108dadf",
   "metadata": {},
   "outputs": [
    {
     "data": {
      "text/plain": [
       "[2, 4]"
      ]
     },
     "execution_count": 10,
     "metadata": {},
     "output_type": "execute_result"
    }
   ],
   "source": [
    "from typing import List\n",
    "\n",
    "class Solution:\n",
    "    def twoSum(self, nums: List[int], target: int) -> List[int]:\n",
    "        # Sort the array \n",
    "        nums = sorted(nums)\n",
    "\n",
    "        # Initilize left and right indices\n",
    "        left = 0\n",
    "        right = len(nums) - 1\n",
    "\n",
    "        # Initialize the loop\n",
    "        while left <= right:\n",
    "            # Calculate the sum \n",
    "            curr_sum = nums[left] + nums[right]\n",
    "\n",
    "            if curr_sum == target:\n",
    "                return [nums[left], nums[right]]\n",
    "\n",
    "            elif curr_sum > target:\n",
    "                right -= 1\n",
    "\n",
    "            elif curr_sum < target:\n",
    "                left += 1\n",
    "\n",
    "\n",
    "sol = Solution()\n",
    "sol.twoSum(nums = [3,2,4], target = 6)"
   ]
  },
  {
   "cell_type": "markdown",
   "id": "d867fc22",
   "metadata": {},
   "source": [
    "#### When indices have to be returned"
   ]
  },
  {
   "cell_type": "code",
   "execution_count": null,
   "id": "20044b13",
   "metadata": {},
   "outputs": [
    {
     "data": {
      "text/plain": [
       "[1, 2]"
      ]
     },
     "execution_count": 9,
     "metadata": {},
     "output_type": "execute_result"
    }
   ],
   "source": [
    "class Solution:\n",
    "    def twoSum(self, nums: List[int], target: int) -> List[int]:\n",
    "        # Start the result hashmap \n",
    "        results = {}\n",
    "\n",
    "        for i, num in enumerate(nums):\n",
    "            # Calculate the difference needed \n",
    "            diff = target - num\n",
    "\n",
    "            # Check if diff exists in results \n",
    "            # If exists \n",
    "            if diff in results:\n",
    "                return [results[diff], i]\n",
    "            \n",
    "            # Else add current element with index to results \n",
    "            else:\n",
    "                results[num] = i\n",
    "\n",
    "sol = Solution()\n",
    "sol.twoSum(nums = [3,2,4], target = 6)"
   ]
  },
  {
   "cell_type": "code",
   "execution_count": null,
   "id": "c86dc7d9",
   "metadata": {},
   "outputs": [],
   "source": []
  }
 ],
 "metadata": {
  "kernelspec": {
   "display_name": "general",
   "language": "python",
   "name": "python3"
  },
  "language_info": {
   "codemirror_mode": {
    "name": "ipython",
    "version": 3
   },
   "file_extension": ".py",
   "mimetype": "text/x-python",
   "name": "python",
   "nbconvert_exporter": "python",
   "pygments_lexer": "ipython3",
   "version": "3.11.13"
  }
 },
 "nbformat": 4,
 "nbformat_minor": 5
}
