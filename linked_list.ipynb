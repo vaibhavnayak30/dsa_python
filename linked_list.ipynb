{
 "cells": [
  {
   "cell_type": "markdown",
   "id": "f40db664",
   "metadata": {},
   "source": [
    "## 📌 Linked List Cycle - 2"
   ]
  },
  {
   "cell_type": "code",
   "execution_count": null,
   "id": "a6ee9c3f",
   "metadata": {},
   "outputs": [],
   "source": [
    "from typing import Optional "
   ]
  },
  {
   "cell_type": "code",
   "execution_count": null,
   "id": "b748de48",
   "metadata": {},
   "outputs": [],
   "source": [
    "# Definition for singly-linked list.\n",
    "class ListNode:\n",
    "    def __init__(self, x):\n",
    "        self.val = x\n",
    "        self.next = None\n",
    "\n",
    "class Solution:\n",
    "    def detectCycle(self, head: Optional[ListNode]) -> Optional[ListNode]:\n",
    "        slow, fast = head, head\n",
    "\n",
    "        while fast and fast.next:\n",
    "            slow = slow.next\n",
    "            fast = fast.next.next\n",
    "\n",
    "            if slow == fast:\n",
    "                # Proves that cycle is present\n",
    "                # Finding the index\n",
    "                slow = head\n",
    "                while slow != fast:\n",
    "                    slow = slow.next\n",
    "                    fast = fast.next\n",
    "                return slow\n",
    "          \n",
    "        # No cycle present\n",
    "        return None"
   ]
  },
  {
   "cell_type": "markdown",
   "id": "cb287649",
   "metadata": {},
   "source": [
    "## 📌 Find Kth Element From End "
   ]
  },
  {
   "cell_type": "code",
   "execution_count": null,
   "id": "bb1ee718",
   "metadata": {},
   "outputs": [],
   "source": [
    "class Node:\n",
    "    def __init__(self, val):\n",
    "        self.val = val\n",
    "        self.next = None\n",
    "\n",
    "def kth_from_end(head, k):\n",
    "    # Move the first pointer to kth location from start\n",
    "    # Check if kth location exists \n",
    "    first = head\n",
    "    second = head\n",
    "    for _ in range(k):\n",
    "        if not first:\n",
    "            return None\n",
    "        \n",
    "        # Shift the first poniter to next element \n",
    "        first = first.next\n",
    "    \n",
    "    # Move both first and second pointer in same direction one step at a time \n",
    "    while first:\n",
    "        first= first.next\n",
    "        second = second.next\n",
    "    \n",
    "    # Return value of second\n",
    "    return second.val if second else None"
   ]
  },
  {
   "cell_type": "code",
   "execution_count": null,
   "id": "bf5acedf",
   "metadata": {},
   "outputs": [],
   "source": [
    "head = Node(1)\n",
    "head.next = Node(2)\n",
    "head.next.next = Node(3)\n",
    "head.next.next.next = Node(4)\n",
    "head.next.next.next.next = Node(5)\n",
    "\n",
    "kth_from_end(head=head, k=2)"
   ]
  },
  {
   "cell_type": "markdown",
   "id": "818f7e44",
   "metadata": {},
   "source": [
    "## 📌 Remove Kth Element from End"
   ]
  },
  {
   "cell_type": "code",
   "execution_count": null,
   "id": "e897c811",
   "metadata": {},
   "outputs": [],
   "source": [
    "from typing import Optional\n",
    "# Definition for singly-linked list.\n",
    "class ListNode:\n",
    "    def __init__(self, val=0, next=None):\n",
    "        self.val = val\n",
    "        self.next = next\n",
    "\n",
    "class Solution:\n",
    "    def removeNthFromEnd(self, head: Optional[ListNode], n: int) -> Optional[ListNode]:\n",
    "        # Set the initial values of first and second pointers\n",
    "        first = head \n",
    "        second = head\n",
    "\n",
    "        # Move the first pointer to nth place and check if that exists \n",
    "        for _ in range(n):\n",
    "            if not first:\n",
    "                return None\n",
    "            \n",
    "            # Move the pointer\n",
    "            first = first.next\n",
    "\n",
    "        # Move both first and second pointer in same directions \n",
    "        # One step at a time \n",
    "        if not first:\n",
    "            return head.next\n",
    "\n",
    "        while first.next:\n",
    "            first = first.next\n",
    "            second = second.next\n",
    "        \n",
    "        second.next = second.next.next\n",
    "\n",
    "        return head"
   ]
  },
  {
   "cell_type": "code",
   "execution_count": null,
   "id": "f62719bc",
   "metadata": {},
   "outputs": [],
   "source": [
    "head = ListNode(1)\n",
    "head.next = ListNode(2)\n",
    "head.next.next = ListNode(3)\n",
    "head.next.next.next = ListNode(4)\n",
    "head.next.next.next.next = ListNode(5)\n",
    "\n",
    "a = Solution()\n",
    "a.removeNthFromEnd(head= head, n= 2)"
   ]
  },
  {
   "cell_type": "markdown",
   "id": "9d39c0f4",
   "metadata": {},
   "source": [
    "## Add Two Numbers (LC-2)"
   ]
  },
  {
   "cell_type": "code",
   "execution_count": null,
   "id": "3a59f529",
   "metadata": {},
   "outputs": [],
   "source": [
    "from typing import Optional\n",
    "\n",
    "class ListNode:\n",
    "    def __init__(self, val=0, next=None):\n",
    "        self.val = val\n",
    "        self.next = next\n",
    "\n",
    "class Solution:\n",
    "    def addTwoNumbers(self, l1: Optional[ListNode], l2: Optional[ListNode]) -> Optional[ListNode]:\n",
    "        # Initialise the variables\n",
    "        result_head = ListNode()\n",
    "        curr_node = result_head\n",
    "\n",
    "        # Start the loop to iterate over both linked lists\n",
    "        carry = 0\n",
    "        while l1 or l2 or carry:\n",
    "            # Get the number \n",
    "            l1_val = l1.val if l1 else 0\n",
    "            l2_val = l2.val if l2 else 0\n",
    "\n",
    "            # Sum of both \n",
    "            l1_l2_sum = l1_val + l2_val + carry\n",
    "\n",
    "            # Check if carry needs to be taken forward \n",
    "            if l1_l2_sum >= 10:\n",
    "                carry = 1 \n",
    "                curr_num = l1_l2_sum - 10\n",
    "            \n",
    "            else:\n",
    "                carry = 0\n",
    "                curr_num = l1_l2_sum\n",
    "\n",
    "            # Create a new node\n",
    "            curr_node.next = ListNode(val= curr_num)\n",
    "            curr_node =  curr_node.next\n",
    "            \n",
    "            # Move to next number \n",
    "            if l1:\n",
    "                l1 = l1.next\n",
    "            \n",
    "            if l2:\n",
    "                l2 = l2.next\n",
    "        \n",
    "        return result_head.next"
   ]
  },
  {
   "cell_type": "markdown",
   "id": "36b1cd66",
   "metadata": {},
   "source": [
    "## Max Profit (LC-122)"
   ]
  },
  {
   "cell_type": "code",
   "execution_count": null,
   "id": "a9454eac",
   "metadata": {},
   "outputs": [],
   "source": [
    "class Solution:\n",
    "    def maxProfit(self, prices: List[int]) -> int:\n",
    "        # Initialise \n",
    "        profit = 0\n",
    "        purchased = float('inf')\n",
    "\n",
    "        # Loop\n",
    "        for price in prices:\n",
    "            # Condition for purchasing \n",
    "            if price < purchased:\n",
    "                # Purchase \n",
    "                purchased = price\n",
    "            \n",
    "            # Sell \n",
    "            else:\n",
    "                # Calculate profit \n",
    "                curr_profit = price - purchased\n",
    "\n",
    "                # Add to total profit \n",
    "                profit += curr_profit\n",
    "\n",
    "                # Re purchase \n",
    "                purchased = price\n",
    "        \n",
    "        return profit"
   ]
  },
  {
   "cell_type": "markdown",
   "id": "b6ab84bf",
   "metadata": {},
   "source": [
    "## Container With Most Water"
   ]
  },
  {
   "cell_type": "code",
   "execution_count": 11,
   "id": "ad83950f",
   "metadata": {},
   "outputs": [
    {
     "data": {
      "text/plain": [
       "4"
      ]
     },
     "execution_count": 11,
     "metadata": {},
     "output_type": "execute_result"
    }
   ],
   "source": [
    "from typing import List\n",
    "\n",
    "class Solution:\n",
    "    def maxArea(self, height: List[int]) -> int:\n",
    "            # Initialise \n",
    "            left, right = 0, len(height) - 1\n",
    "            max_water_cotent = 0\n",
    "\n",
    "            # Loop\n",
    "            while left < right:\n",
    "                # Calculate min height \n",
    "                min_height = min(height[left], height[right])\n",
    "\n",
    "                # Calculate water amount \n",
    "                water_content = min_height * (right - left)\n",
    "\n",
    "                # Compare the max amount \n",
    "                max_water_cotent = max(max_water_cotent, water_content)\n",
    "\n",
    "                # Shift the pointers\n",
    "                if height[left] < height[right]:\n",
    "                     left += 1\n",
    "\n",
    "                else:\n",
    "                     right -= 1\n",
    "\n",
    "            return max_water_cotent\n",
    "\n",
    "sol = Solution()\n",
    "sol.maxArea(height = [1,2,3,4])"
   ]
  },
  {
   "cell_type": "markdown",
   "id": "1f27cfe8",
   "metadata": {},
   "source": [
    "## House Robber IV"
   ]
  },
  {
   "cell_type": "code",
   "execution_count": null,
   "id": "90ff0beb",
   "metadata": {},
   "outputs": [],
   "source": []
  }
 ],
 "metadata": {
  "kernelspec": {
   "display_name": "general",
   "language": "python",
   "name": "python3"
  },
  "language_info": {
   "codemirror_mode": {
    "name": "ipython",
    "version": 3
   },
   "file_extension": ".py",
   "mimetype": "text/x-python",
   "name": "python",
   "nbconvert_exporter": "python",
   "pygments_lexer": "ipython3",
   "version": "3.11.13"
  }
 },
 "nbformat": 4,
 "nbformat_minor": 5
}
