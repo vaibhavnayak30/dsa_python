{
 "cells": [
  {
   "cell_type": "markdown",
   "id": "f40db664",
   "metadata": {},
   "source": [
    "## 📌 Linked List Cycle - 2"
   ]
  },
  {
   "cell_type": "code",
   "execution_count": null,
   "id": "a6ee9c3f",
   "metadata": {},
   "outputs": [],
   "source": [
    "from typing import Optional "
   ]
  },
  {
   "cell_type": "code",
   "execution_count": null,
   "id": "b748de48",
   "metadata": {},
   "outputs": [],
   "source": [
    "# Definition for singly-linked list.\n",
    "class ListNode:\n",
    "    def __init__(self, x):\n",
    "        self.val = x\n",
    "        self.next = None\n",
    "\n",
    "class Solution:\n",
    "    def detectCycle(self, head: Optional[ListNode]) -> Optional[ListNode]:\n",
    "        slow, fast = head, head\n",
    "\n",
    "        while fast and fast.next:\n",
    "            slow = slow.next\n",
    "            fast = fast.next.next\n",
    "\n",
    "            if slow == fast:\n",
    "                # Proves that cycle is present\n",
    "                # Finding the index\n",
    "                slow = head\n",
    "                while slow != fast:\n",
    "                    slow = slow.next\n",
    "                    fast = fast.next\n",
    "                return slow\n",
    "          \n",
    "        # No cycle present\n",
    "        return None"
   ]
  },
  {
   "cell_type": "markdown",
   "id": "cb287649",
   "metadata": {},
   "source": [
    "## 📌 Find Kth Element From End "
   ]
  },
  {
   "cell_type": "code",
   "execution_count": null,
   "id": "bb1ee718",
   "metadata": {},
   "outputs": [],
   "source": [
    "class Node:\n",
    "    def __init__(self, val):\n",
    "        self.val = val\n",
    "        self.next = None\n",
    "\n",
    "def kth_from_end(head, k):\n",
    "    # Move the first pointer to kth location from start\n",
    "    # Check if kth location exists \n",
    "    first = head\n",
    "    second = head\n",
    "    for _ in range(k):\n",
    "        if not first:\n",
    "            return None\n",
    "        \n",
    "        # Shift the first poniter to next element \n",
    "        first = first.next\n",
    "    \n",
    "    # Move both first and second pointer in same direction one step at a time \n",
    "    while first:\n",
    "        first= first.next\n",
    "        second = second.next\n",
    "    \n",
    "    # Return value of second\n",
    "    return second.val if second else None"
   ]
  },
  {
   "cell_type": "code",
   "execution_count": null,
   "id": "bf5acedf",
   "metadata": {},
   "outputs": [],
   "source": [
    "head = Node(1)\n",
    "head.next = Node(2)\n",
    "head.next.next = Node(3)\n",
    "head.next.next.next = Node(4)\n",
    "head.next.next.next.next = Node(5)\n",
    "\n",
    "kth_from_end(head=head, k=2)"
   ]
  },
  {
   "cell_type": "markdown",
   "id": "818f7e44",
   "metadata": {},
   "source": [
    "## 📌 Remove Kth Element from End"
   ]
  },
  {
   "cell_type": "code",
   "execution_count": 13,
   "id": "e897c811",
   "metadata": {},
   "outputs": [],
   "source": [
    "from typing import Optional\n",
    "# Definition for singly-linked list.\n",
    "class ListNode:\n",
    "    def __init__(self, val=0, next=None):\n",
    "        self.val = val\n",
    "        self.next = next\n",
    "\n",
    "class Solution:\n",
    "    def removeNthFromEnd(self, head: Optional[ListNode], n: int) -> Optional[ListNode]:\n",
    "        # Set the initial values of first and second pointers\n",
    "        first = head \n",
    "        second = head\n",
    "\n",
    "        # Move the first pointer to nth place and check if that exists \n",
    "        for _ in range(n):\n",
    "            if not first:\n",
    "                return None\n",
    "            \n",
    "            # Move the pointer\n",
    "            first = first.next\n",
    "\n",
    "        # Move both first and second pointer in same directions \n",
    "        # One step at a time \n",
    "        if not first:\n",
    "            return head.next\n",
    "\n",
    "        while first.next:\n",
    "            first = first.next\n",
    "            second = second.next\n",
    "        \n",
    "        second.next = second.next.next\n",
    "\n",
    "        return head"
   ]
  },
  {
   "cell_type": "code",
   "execution_count": 14,
   "id": "f62719bc",
   "metadata": {},
   "outputs": [
    {
     "data": {
      "text/plain": [
       "<__main__.ListNode at 0x2805ea5c2d0>"
      ]
     },
     "execution_count": 14,
     "metadata": {},
     "output_type": "execute_result"
    }
   ],
   "source": [
    "head = ListNode(1)\n",
    "head.next = ListNode(2)\n",
    "head.next.next = ListNode(3)\n",
    "head.next.next.next = ListNode(4)\n",
    "head.next.next.next.next = ListNode(5)\n",
    "\n",
    "a = Solution()\n",
    "a.removeNthFromEnd(head= head, n= 2)"
   ]
  },
  {
   "cell_type": "code",
   "execution_count": null,
   "id": "53e781c9",
   "metadata": {},
   "outputs": [],
   "source": [
    "# Definition for singly-linked list.\n",
    "class ListNode:\n",
    "    def __init__(self, val=0, next=None):\n",
    "        self.val = val\n",
    "        self.next = next\n",
    "\n",
    "class Solution:\n",
    "    def removeNthFromEnd(self, head: Optional[ListNode], n: int) -> Optional[ListNode]:\n",
    "        # Loop to move fast pointer to n position from start \n",
    "        fast = head \n",
    "        slow = head \n",
    "        for _ in range(n):\n",
    "            if not fast.next:\n",
    "                return\n",
    "            fast = fast.next\n",
    "\n",
    "        # Loop to move fast and slow pointer in same direction one step each till end\n",
    "        while fast.next:\n",
    "            fast = fast.next\n",
    "            slow = slow.next\n",
    "        \n",
    "        # Remove the mentioned element \n",
    "        slow.next = slow.next.next\n",
    "     \n",
    "\n",
    "        "
   ]
  }
 ],
 "metadata": {
  "kernelspec": {
   "display_name": "general",
   "language": "python",
   "name": "python3"
  },
  "language_info": {
   "codemirror_mode": {
    "name": "ipython",
    "version": 3
   },
   "file_extension": ".py",
   "mimetype": "text/x-python",
   "name": "python",
   "nbconvert_exporter": "python",
   "pygments_lexer": "ipython3",
   "version": "3.11.13"
  }
 },
 "nbformat": 4,
 "nbformat_minor": 5
}
