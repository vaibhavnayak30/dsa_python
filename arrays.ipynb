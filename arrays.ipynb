{
 "cells": [
  {
   "cell_type": "markdown",
   "id": "2ab6d46f",
   "metadata": {},
   "source": [
    "## 📌🔖 Rotated Sorted\n",
    "- We binary search on the rotated sorted array.\n",
    "- If nums[mid] > nums[right], the minimum must be in the right half.\n",
    "- Otherwise, the minimum is in the left half.\n",
    "- When the loop ends, left == right, pointing to the minimum element."
   ]
  },
  {
   "cell_type": "markdown",
   "id": "655820ef",
   "metadata": {},
   "source": [
    "### 1. Minimum in rotated sorted with Distict Elements (LC-153)"
   ]
  },
  {
   "cell_type": "code",
   "execution_count": null,
   "id": "34f01150",
   "metadata": {},
   "outputs": [],
   "source": [
    "class Solution:\n",
    "    def findMin(self, nums: List[int]) -> int:\n",
    "        # Initialize the two pointers \n",
    "        left = 0\n",
    "        right = len(nums) - 1\n",
    "\n",
    "        # Start the loop \n",
    "        while left < right:\n",
    "            # Calculate the mid \n",
    "            mid = (left + right) // 2\n",
    "\n",
    "            # Check which side mid lies in wrt right pointer\n",
    "            # Mid lies on right side of minimum \n",
    "            if nums[mid] > nums[right]:\n",
    "                # Shift the left pointer \n",
    "                left = mid + 1\n",
    "\n",
    "            else:\n",
    "                right = mid\n",
    "        \n",
    "        return nums[left]"
   ]
  },
  {
   "cell_type": "markdown",
   "id": "2fea38da",
   "metadata": {},
   "source": [
    "### 2. Search in rotated sorted with Distinct Integers (LC-33)"
   ]
  },
  {
   "cell_type": "code",
   "execution_count": null,
   "id": "157a4920",
   "metadata": {},
   "outputs": [],
   "source": [
    "class Solution:\n",
    "    def search(self, nums: List[int], target: int) -> int:\n",
    "        # Initialise the pointers \n",
    "        left = 0\n",
    "        right = len(nums) - 1\n",
    "\n",
    "        # Start the loop\n",
    "        while left <= right:\n",
    "            # Calculate the mid \n",
    "            mid = (left + right) // 2\n",
    "\n",
    "            # Check if mid has the answer\n",
    "            if nums[mid] == target:\n",
    "                return mid\n",
    "\n",
    "            # Check which side of mid is sorted \n",
    "            # Left side sorted \n",
    "            if nums[mid] >= nums[left]:\n",
    "                # If target lies in between\n",
    "                if nums[left] <= target < nums[mid]:\n",
    "                    right = mid - 1\n",
    "\n",
    "                else:\n",
    "                    left = mid + 1\n",
    "\n",
    "            # Right side sorted \n",
    "            else:\n",
    "                # Target lies in between\n",
    "                if nums[mid] < target <= nums[right]:\n",
    "                    left = mid + 1\n",
    "                \n",
    "                else:\n",
    "                    right = mid - 1\n",
    "        \n",
    "        return -1"
   ]
  },
  {
   "cell_type": "markdown",
   "id": "8ca6faef",
   "metadata": {},
   "source": [
    "### 3. Search in rotated sorted with Non Distinct Integers"
   ]
  },
  {
   "cell_type": "code",
   "execution_count": null,
   "id": "cb3e2cb0",
   "metadata": {},
   "outputs": [],
   "source": [
    "class Solution:\n",
    "    def search(self, nums: List[int], target: int) -> int:\n",
    "        # define left and right indexes\n",
    "        left = 0\n",
    "        right = len(nums) -1\n",
    "        \n",
    "        # start the loop\n",
    "        while left <= right:\n",
    "            # calculate mid value and match with target \n",
    "            mid = (left + right) // 2\n",
    "            \n",
    "            if nums[mid] == target:\n",
    "                return True\n",
    "            \n",
    "            # if duplicate block the decision \n",
    "            if nums[left] == nums[mid] == nums[right]:\n",
    "                left += 1\n",
    "                right -= 1        \n",
    "            \n",
    "            # check which side of mid is sorted \n",
    "            # left sorted\n",
    "            elif nums[left] <= nums[mid]:\n",
    "                # check which side of mid target lies \n",
    "                if nums[left] <= target < nums[mid]:\n",
    "                    right = (mid - 1)\n",
    "\n",
    "                else:\n",
    "                    left = (mid + 1)\n",
    "\n",
    "            # right sorted \n",
    "            else:\n",
    "                # check which side of mid target lies \n",
    "                if nums[mid] < target <= nums[right]:\n",
    "                    left = (mid + 1)\n",
    "                \n",
    "                else:\n",
    "                    right = (mid - 1)\n",
    "            \n",
    "        return False"
   ]
  },
  {
   "cell_type": "markdown",
   "id": "e6356712",
   "metadata": {},
   "source": [
    "## 📌3 Sum"
   ]
  },
  {
   "cell_type": "code",
   "execution_count": null,
   "id": "07e646be",
   "metadata": {},
   "outputs": [],
   "source": [
    "from typing import List\n",
    "class Solution:\n",
    "    def threeSum(self, nums: List[int]) -> List[List[int]]:\n",
    "        # Sort the array\n",
    "        nums.sort()\n",
    "\n",
    "        # Initiate the final list\n",
    "        result = []\n",
    "\n",
    "        for i in range(len(nums)):\n",
    "            # Skip duplicates\n",
    "            if i > 0 and nums[i] == nums[i - 1]:\n",
    "                continue\n",
    "\n",
    "            # Calculated the target sum to be calculated \n",
    "            target = -nums[i]\n",
    "\n",
    "            # Mark left and right pointers \n",
    "            leftIdx  = (i+1) \n",
    "            rightIdx = (len(nums) - 1)\n",
    "\n",
    "            # 2 Sum Loop\n",
    "            while leftIdx < rightIdx:\n",
    "                curSum = nums[leftIdx] + nums[rightIdx]\n",
    "\n",
    "                if curSum > target:\n",
    "                    rightIdx -= 1\n",
    "\n",
    "                elif curSum < target:\n",
    "                    leftIdx += 1\n",
    "\n",
    "                elif curSum == target:\n",
    "                    result.append([nums[i], nums[leftIdx], nums[rightIdx]])\n",
    "                    leftIdx += 1\n",
    "                    rightIdx -= 1\n",
    "\n",
    "                    while leftIdx < rightIdx and nums[leftIdx] == nums[leftIdx - 1]:\n",
    "                        leftIdx += 1\n",
    "                    while leftIdx < rightIdx and nums[rightIdx] == nums[rightIdx + 1]:\n",
    "                        rightIdx -= 1 \n",
    "        \n",
    "        return result\n",
    "    \n",
    "\n",
    "sol = Solution()\n",
    "sol.threeSum(nums=[-2,0,3,-1,4,0,3,4,1,1,1,-3,-5,4,0])\n"
   ]
  },
  {
   "cell_type": "markdown",
   "id": "4989986f",
   "metadata": {},
   "source": [
    "## 📌Majority Element (Moore's Voting Algo)"
   ]
  },
  {
   "cell_type": "code",
   "execution_count": null,
   "id": "b84122d2",
   "metadata": {},
   "outputs": [],
   "source": [
    "class Solution:\n",
    "    def majorityElement(self, nums: List[int]) -> int:\n",
    "        # Assign candidate and count variables \n",
    "        candidate = None\n",
    "        count= 0\n",
    "        \n",
    "        # Main loop\n",
    "        for element in nums:\n",
    "            # Initialise candidate to current element if count is 0\n",
    "            if count == 0:\n",
    "                candidate = element\n",
    "            \n",
    "            # Increase or decrease the count based on condition\n",
    "            to_add = (1 if element==candidate else -1)\n",
    "            count += to_add\n",
    "\n",
    "        if nums.count(candidate) > (len(nums) // 2):\n",
    "            return candidate\n"
   ]
  },
  {
   "cell_type": "code",
   "execution_count": null,
   "id": "453b9a86",
   "metadata": {},
   "outputs": [],
   "source": [
    "a = Solution()\n",
    "a.majorityElement([3,2,3])"
   ]
  },
  {
   "cell_type": "markdown",
   "id": "abf3c08c",
   "metadata": {},
   "source": [
    "## 📌Extended Moore's Algorithm"
   ]
  },
  {
   "cell_type": "markdown",
   "id": "0974234a",
   "metadata": {},
   "source": [
    "### 1. Laymen Approach"
   ]
  },
  {
   "cell_type": "code",
   "execution_count": null,
   "id": "a4cd1f28",
   "metadata": {},
   "outputs": [],
   "source": [
    "from typing import List\n",
    "class Solution:\n",
    "    def majorityElement(self, nums: List[int]) -> List[int]:\n",
    "        # Initiate a counter dictionary\n",
    "        counter = {}\n",
    "        count = len(nums) // 3\n",
    "        result = []\n",
    "\n",
    "        # Loop to generate the counter for each elements \n",
    "        for element in nums:\n",
    "            # Check if the element is in hashmap and initialise to 0\n",
    "            if not element in counter:\n",
    "                counter[element] = 0\n",
    "            \n",
    "            # Increment the counter for the element \n",
    "            counter[element] += 1\n",
    "\n",
    "        # Loop to count the number of elements \n",
    "        for element, value in counter.items():\n",
    "            # Check for the condition \n",
    "            if value > count:\n",
    "                result.append(element)\n",
    "        \n",
    "        # Return the result\n",
    "        return result\n",
    "    \n",
    "a = Solution()\n",
    "a.majorityElement([1,2])"
   ]
  },
  {
   "cell_type": "markdown",
   "id": "32702eac",
   "metadata": {},
   "source": [
    "## 📌 Find Duplicate Number"
   ]
  },
  {
   "cell_type": "markdown",
   "id": "a362165b",
   "metadata": {},
   "source": [
    "### 1. Brute Force"
   ]
  },
  {
   "cell_type": "code",
   "execution_count": null,
   "id": "3e939b42",
   "metadata": {},
   "outputs": [],
   "source": [
    "class Solution:\n",
    "    def findDuplicate(self, nums: List[int]) -> int:\n",
    "        # Create an empty set for the elements checked\n",
    "        elements= set()\n",
    "\n",
    "        # Loop over each element -> Check if present in set \n",
    "        # If not present -> Add to set \n",
    "        for num in nums:\n",
    "            if num in elements:\n",
    "                return num\n",
    "            \n",
    "            # If not present -> Add num to set \n",
    "            elements.add(num)\n",
    "\n",
    "            \n",
    "a = Solution()\n",
    "duplicate = a.findDuplicate([1,3,4,2,2])\n",
    "print(duplicate)"
   ]
  },
  {
   "cell_type": "markdown",
   "id": "8fe623fb",
   "metadata": {},
   "source": [
    "### 2. Optimized Solution\n",
    "#### Fast and Slow Pointers"
   ]
  },
  {
   "cell_type": "code",
   "execution_count": null,
   "id": "22243be8",
   "metadata": {},
   "outputs": [],
   "source": [
    "\"\"\"\n",
    "Slow and Fast pointer approach works under specific conditions:\n",
    "    - (n+1) integers\n",
    "    - All numbers are in range 1 to n\n",
    "    - There is exactly one duplicate (may repeat multiple times) \n",
    "\"\"\"\n",
    "class Solution:\n",
    "    def findDuplicate(self, nums: List[int]) -> int:\n",
    "        slow = nums[0]\n",
    "        fast = nums[0]\n",
    "\n",
    "        while True:\n",
    "            slow = nums[slow]\n",
    "            fast = nums[nums[fast]]\n",
    "\n",
    "            if slow == fast:\n",
    "                # cycle is present\n",
    "                # shift slow to start of the \n",
    "                # move both slow and fast pointer in same direct one step a time\n",
    "                break\n",
    "        \n",
    "        slow = nums[0]\n",
    "        while slow != fast:\n",
    "            slow = nums[slow]\n",
    "            fast = nums[fast]\n",
    "\n",
    "        return slow"
   ]
  },
  {
   "cell_type": "code",
   "execution_count": null,
   "id": "9e9c84bc",
   "metadata": {},
   "outputs": [],
   "source": [
    "class Solution:\n",
    "    def maximumProduct(self, nums: List[int]) -> int:\n",
    "        # Assign two pointers at distance of 3 from each other \n",
    "        starting_pointer = 0\n",
    "        mid_pointer = 1\n",
    "        ending_pointer  = 2\n",
    "        result = nums[starting_pointer] * nums[mid_pointer] * nums[ending_pointer]\n",
    "\n",
    "        # Start the loop\n",
    "        for i in range(3, len(nums)):\n",
    "            # Calculate the product \n",
    "            temp_result = nums[i-2] * nums[i-1] * nums[i]\n",
    "\n",
    "            if temp_result > result:\n",
    "                result = temp_result\n",
    "\n",
    "        return result\n",
    "\n",
    "        "
   ]
  },
  {
   "cell_type": "markdown",
   "id": "2f98775f",
   "metadata": {},
   "source": [
    "## 📌 🔖 Longest Substring Without Repearing Character (LC-3)\n",
    "- Non - repeating characters, think of using set() or deque()\n",
    "- Calculate result in each iterations "
   ]
  },
  {
   "cell_type": "code",
   "execution_count": null,
   "id": "180a2828",
   "metadata": {},
   "outputs": [],
   "source": [
    "class Solution:\n",
    "    def lengthOfLongestSubstring(self, s: str) -> int:\n",
    "        # Initialise the pointers and set \n",
    "        left = 0\n",
    "        result = 0\n",
    "        char_set = set()\n",
    "\n",
    "        # Loop through the elements \n",
    "        for right in range(len(s)):\n",
    "            while s[right] in char_set:\n",
    "                # Remove the left element \n",
    "                char_set.remove(s[left])\n",
    "\n",
    "                # Move left pointer\n",
    "                left += 1\n",
    "\n",
    "            # Add current to set\n",
    "            char_set.add(s[right])\n",
    "\n",
    "            # Check for current length \n",
    "            result = max(result, len(char_set))\n",
    "\n",
    "        return result\n",
    "\n",
    "sol = Solution()\n",
    "print(sol.lengthOfLongestSubstring(\"pwwkew\"))"
   ]
  },
  {
   "cell_type": "markdown",
   "id": "838bb1ff",
   "metadata": {},
   "source": [
    "## 📌 Maximum Average Subarray (LC-643)"
   ]
  },
  {
   "cell_type": "markdown",
   "id": "3b9dd5d5",
   "metadata": {},
   "source": [
    "#### 1. Fist Approach"
   ]
  },
  {
   "cell_type": "code",
   "execution_count": null,
   "id": "0a4347a5",
   "metadata": {},
   "outputs": [],
   "source": [
    "from typing import List\n",
    "\n",
    "class Solution:\n",
    "    def findMaxAverage(self, nums: List[int], k: int) ->  float:\n",
    "        # Initialise the left pointer, results\n",
    "        left = 0\n",
    "        running_sum= 0\n",
    "        result = float(\"-inf\")\n",
    "\n",
    "        # Loop through the list \n",
    "        for right in range(len(nums)):\n",
    "            # Check if window exists\n",
    "            if right-left == k-1:\n",
    "                running_sum += nums[right]\n",
    "\n",
    "                # Calculate the average\n",
    "                curr_avg = running_sum / k\n",
    "\n",
    "                # Check for max avg\n",
    "                result = max(result, curr_avg)\n",
    "\n",
    "                # Move the left pointer\n",
    "                running_sum -= nums[left]\n",
    "                left += 1\n",
    "\n",
    "            else:\n",
    "                # Add current element to running sum\n",
    "                running_sum += nums[right]\n",
    "        \n",
    "        return result\n"
   ]
  },
  {
   "cell_type": "markdown",
   "id": "f89bdf29",
   "metadata": {},
   "source": [
    "#### 2. Optimised Approach\n",
    "- Don't recalculate window sum everytime, else add one in front and remove one from rear \n",
    "- We can use sum to calculate sum of list "
   ]
  },
  {
   "cell_type": "code",
   "execution_count": null,
   "id": "5f973b42",
   "metadata": {},
   "outputs": [],
   "source": [
    "class Solution:\n",
    "    def findMaxAverage(self, nums: List[int], k: int) ->  float:\n",
    "        # Caculate first sum \n",
    "        window_sum = sum(nums[0:k])\n",
    "        result = window_sum\n",
    "        \n",
    "        # Loop through the elements \n",
    "        for i in range(k, len(nums)):\n",
    "            # Get the sum of the window \n",
    "            window_sum = (window_sum + nums[i]) - nums[i-k]\n",
    "\n",
    "            # Compare the current window sum with exisitng \n",
    "            result = max(window_sum, result)\n",
    "\n",
    "        return result / k"
   ]
  },
  {
   "cell_type": "markdown",
   "id": "5cc6a78e",
   "metadata": {},
   "source": [
    "## 📌 Minimum Size Subarray Sum With Positive Integers Only (LC-209)\n",
    "\n",
    "Errors\n",
    "- Do not calculate sum everytime \n",
    "- Do not create a new slice everytime \n",
    "- Starting length can be length of the list instead of inf"
   ]
  },
  {
   "cell_type": "code",
   "execution_count": null,
   "id": "db66610e",
   "metadata": {},
   "outputs": [],
   "source": [
    "class Solution:\n",
    "    def minSubArrayLen(self, target: int, nums: List[int]) -> int:\n",
    "        # Initialise left and right pointers \n",
    "        left = 0\n",
    "        # result = float(\"inf\")\n",
    "        result = len(nums) + 1\n",
    "        curr_sum = 0\n",
    "\n",
    "        for i in range(len(nums)):\n",
    "            # Check for sum for current slice \n",
    "            curr_sum = curr_sum + nums[i]\n",
    "\n",
    "            # Check if curr sum is more than target \n",
    "            while curr_sum >= target:\n",
    "                # Compare current length with previous length \n",
    "                # result = min(result, len(nums[left: i+1]))\n",
    "                result = min(result, i-left+1)\n",
    "\n",
    "                # Shift left pointer by 1\n",
    "                left_curr = nums[left]\n",
    "                left += 1\n",
    "\n",
    "                # Recalculate sum\n",
    "                curr_sum = curr_sum - left_curr\n",
    "            \n",
    "        return 0 if result == float('inf') else result"
   ]
  },
  {
   "cell_type": "markdown",
   "id": "50988705",
   "metadata": {},
   "source": [
    "## 📌 🔖 Maximum Size Subarray Sum Equal K Wiht Both Positive and Negative Integers (LC-325)\n",
    "### 💡 Using Prefix Sum here\n",
    "### - Notes:\n",
    "- Sliding Window should not be the first preference for arrays with mix of negative and positive numbers \n",
    "- Sliding windown is good if sum increses or decreses monotonically (all numbers either positive or negative)"
   ]
  },
  {
   "cell_type": "code",
   "execution_count": null,
   "id": "72c53161",
   "metadata": {},
   "outputs": [],
   "source": [
    "class Solution:\n",
    "    def maxSubArrayLen(self, nums: List[int], k: int) -> int:\n",
    "        # Initialize the variables \n",
    "        seen = {0:-1}\n",
    "        prefix_sum= 0\n",
    "        result = 0\n",
    "\n",
    "        # Loop through every element and sum\n",
    "        for i, num in enumerate(nums):\n",
    "            # Update the sum \n",
    "            prefix_sum += num\n",
    "            \n",
    "            # Check if already present \n",
    "            if (prefix_sum - k) in seen:\n",
    "                # Check for length comparing to previous \n",
    "                result = max(result, i - seen[prefix_sum - k])\n",
    "        \n",
    "            # Add if not present \n",
    "            if prefix_sum not in seen:\n",
    "                seen[prefix_sum] = i\n",
    "            \n",
    "        return result"
   ]
  },
  {
   "cell_type": "markdown",
   "id": "e114cb76",
   "metadata": {},
   "source": [
    "## 📌🔖 Subarray Sums Divisible by K (LC-974)"
   ]
  },
  {
   "cell_type": "code",
   "execution_count": null,
   "id": "2bc793d7",
   "metadata": {},
   "outputs": [],
   "source": [
    "class Solution:\n",
    "    def subarraysDivByK(self, nums: List[int], k: int) -> int:\n",
    "        remainder_map = {0: 1}\n",
    "        count = 0\n",
    "        current_sum = 0\n",
    "\n",
    "        # Iterate through each number in the array \n",
    "        for num in nums:\n",
    "            # Update the current prefix sum \n",
    "            current_sum += num\n",
    "\n",
    "            # Calculate the remainder \n",
    "            remainder = (current_sum % k + k) % k\n",
    "\n",
    "            # Check if this remainder has been seen before \n",
    "            if remainder in remainder_map:\n",
    "                # add to the count \n",
    "                count += remainder_map[remainder]\n",
    "\n",
    "                # Increment the count of this remainder \n",
    "                remainder_map[remainder] += 1\n",
    "            \n",
    "            else:\n",
    "                # Add this remainder to map \n",
    "                remainder_map[remainder] = 1\n",
    "        \n",
    "        return count\n"
   ]
  },
  {
   "cell_type": "markdown",
   "id": "d7cca3f5",
   "metadata": {},
   "source": [
    "## 📌🔖 Subarray Sum Equals K With Both Positive and Negative Integers (LC-560)"
   ]
  },
  {
   "cell_type": "code",
   "execution_count": null,
   "id": "9bdd360c",
   "metadata": {},
   "outputs": [],
   "source": [
    "from collections import defaultdict\n",
    "\n",
    "class Solution:\n",
    "    def subarraySum(self, nums: List[int], k: int) -> int:\n",
    "        # Initialize the prefix sum dictionary \n",
    "        prefix_sum_freq = defaultdict(int)\n",
    "        prefix_sum_freq[0] = 1\n",
    "        current_sum = 0\n",
    "        count = 0\n",
    "\n",
    "        # Start the loop and calculate current sum \n",
    "        for num in nums:\n",
    "            # Increment current sum with new num\n",
    "            current_sum += num\n",
    "\n",
    "            # Check for condition\n",
    "            target = current_sum - k\n",
    "            if target in prefix_sum_freq:\n",
    "                # increment the counter\n",
    "                count += prefix_sum_freq[target]\n",
    "\n",
    "            # Update the count \n",
    "            prefix_sum_freq[current_sum] += 1\n",
    "\n",
    "        return count"
   ]
  },
  {
   "cell_type": "markdown",
   "id": "c2751e6c",
   "metadata": {},
   "source": [
    "## 📌🔖 Make Sum Divisible by P (LC-1590)"
   ]
  },
  {
   "cell_type": "code",
   "execution_count": null,
   "id": "c84486f5",
   "metadata": {},
   "outputs": [],
   "source": [
    "class Solution:\n",
    "    def minSubarray(self, nums: List[int], p: int) -> int:\n",
    "        # Initialize the variables and map \n",
    "        prefix_sum_map = defaultdict(int)\n",
    "        prefix_sum_map[0] = -1\n",
    "        current_sum = 0\n",
    "        target = sum(nums) % p\n",
    "        result = len(nums) + 1\n",
    "\n",
    "        # If full array is divisible by p\n",
    "        if target == 0:\n",
    "            return 0\n",
    "\n",
    "        # Start a loop to add current number to total sum \n",
    "        for i, num in enumerate(nums):\n",
    "            # Increment the current sum \n",
    "            current_sum += num\n",
    "            curr_mod = current_sum % p\n",
    "\n",
    "            # Check for condition\n",
    "            previous_remainder = (curr_mod - target + p) % p \n",
    "            if previous_remainder in prefix_sum_map:\n",
    "                # Fetch the value of key \n",
    "                j = prefix_sum_map[previous_remainder]\n",
    "\n",
    "                # Compare min value \n",
    "                result = min(result, i - j)\n",
    "            \n",
    "            # Store the curr_mod\n",
    "            prefix_sum_map[curr_mod] = i\n",
    "\n",
    "        return result if result < len(nums) else -1\n",
    "\n",
    "# nums % p == target\n",
    "# target = subarray_sum % p =  (prefix_sum[i] - prefix_sum[j]) % p , i>j \n",
    "# (prefix_sum[i] % p - prefix_sum[j] % p + p) % p\n",
    "# (curr_remainder - previous_remainder + p) % p\n",
    "# previous_remainder = (curr_remainder - target + p) % p\n",
    "\n",
    "# prefix_sum[j] % p = (prefic_sum[i] % p) - target"
   ]
  },
  {
   "cell_type": "markdown",
   "id": "13bbc20c",
   "metadata": {},
   "source": [
    "## 📌🔖 Continuous Subarray Sum (LC-523)"
   ]
  },
  {
   "cell_type": "code",
   "execution_count": null,
   "id": "8b827264",
   "metadata": {},
   "outputs": [],
   "source": [
    "class Solution:\n",
    "    def checkSubarraySum(self, nums: List[int], k: int) -> bool:\n",
    "        # Initialise the variables \n",
    "        prefix_map = {0: -1}\n",
    "        current_sum = 0\n",
    "\n",
    "        # Start the loop over nums \n",
    "        for i, num in enumerate(nums):\n",
    "            # Calculate the current sum \n",
    "            current_sum += num\n",
    "\n",
    "            # Check for the condition \n",
    "            current_remainder = current_sum % k\n",
    "            if current_remainder in prefix_map:\n",
    "                # Check for the length \n",
    "                sub_array_len = i - prefix_map[current_remainder]\n",
    "\n",
    "                if sub_array_len >= 2:\n",
    "                    return True\n",
    "            \n",
    "            else:\n",
    "                # Save the first appearance\n",
    "                # Add current remainder in prefix map \n",
    "                prefix_map[current_remainder] = i\n",
    "\n",
    "        return False"
   ]
  },
  {
   "cell_type": "markdown",
   "id": "bb76529d",
   "metadata": {},
   "source": [
    "## 📌 Valid Parentheses (LC-20)"
   ]
  },
  {
   "cell_type": "code",
   "execution_count": null,
   "id": "47773c4c",
   "metadata": {},
   "outputs": [],
   "source": [
    "class Solution:\n",
    "    def isValid(self, s: str) -> bool:\n",
    "        # Dictionary of opening and closing brackets \n",
    "        bracket_dict = {'(':')', '{': '}', '[': ']'}\n",
    "        occurance = []\n",
    "\n",
    "        # Loop through the input \n",
    "        for bracket in s:\n",
    "            # Check what type of bracket is this \n",
    "            if bracket in bracket_dict:\n",
    "                # Its an opening bracket, add it to occurance list\n",
    "                occurance.append(bracket)\n",
    "                            \n",
    "            # Its a type of closing bracket \n",
    "            else:\n",
    "                if occurance:\n",
    "                    # Check the first brancket to be closed \n",
    "                    to_close_first = occurance.pop()\n",
    "\n",
    "                    # Check if same \n",
    "                    if bracket == bracket_dict[to_close_first]:\n",
    "                        # Everything is in order \n",
    "                        continue\n",
    "\n",
    "                return False\n",
    "                \n",
    "        # Check for any value in occurance\n",
    "        if occurance:\n",
    "            return False\n",
    "            \n",
    "        return True\n",
    "    \n",
    "sol = Solution()\n",
    "sol.isValid(s =\"[\")\n"
   ]
  },
  {
   "cell_type": "markdown",
   "id": "ff37495e",
   "metadata": {},
   "source": [
    "## 📌 Best Time to Buy and Sell Stock (LC-)"
   ]
  },
  {
   "cell_type": "code",
   "execution_count": null,
   "id": "621ae422",
   "metadata": {},
   "outputs": [],
   "source": [
    "import heapq\n",
    "\n",
    "class Solution:\n",
    "    def maxProfit(self, prices: List[int]) -> int:\n",
    "        # Initialise\n",
    "        max_profit = 0\n",
    "        minimum_so_far = float('inf')\n",
    "\n",
    "        # Loop through the prices \n",
    "        for price in prices:\n",
    "            # Check if its minimum\n",
    "            if price <= minimum_so_far:\n",
    "                minimum_so_far =  min(minimum_so_far, price)\n",
    "            \n",
    "            else:\n",
    "                max_profit = max(max_profit, price - minimum_so_far)\n",
    "        \n",
    "        return max_profit"
   ]
  },
  {
   "cell_type": "markdown",
   "id": "cbf074fa",
   "metadata": {},
   "source": [
    "## 📌 Best Time to Buy and Sell Stock II (LC-122)"
   ]
  },
  {
   "cell_type": "code",
   "execution_count": null,
   "id": "7127790a",
   "metadata": {},
   "outputs": [],
   "source": [
    "from typing import List\n",
    "\n",
    "class Solution:\n",
    "    def maxProfit(self, prices: List[int]) -> int:\n",
    "        # Initialise Variables \n",
    "        purchased = float('inf')\n",
    "        profit = 0       \n",
    "\n",
    "        # Loop \n",
    "        for price in prices:\n",
    "            # Purchase\n",
    "            if price < purchased:\n",
    "                purchased = price\n",
    "                continue\n",
    "            \n",
    "            # Sell\n",
    "            else:\n",
    "                # Book profit \n",
    "                profit += price - purchased\n",
    "\n",
    "                # Mark it as purchased for next \n",
    "                purchased = price\n",
    "        \n",
    "        return profit\n",
    "    \n",
    "\n",
    "sol = Solution()\n",
    "sol.maxProfit(prices = [7,1,5,3,6,4])"
   ]
  },
  {
   "cell_type": "markdown",
   "id": "f0cb5a15",
   "metadata": {},
   "source": [
    "## 📌 Best Time to Buy and Sell Stock III (LC-123)"
   ]
  },
  {
   "cell_type": "code",
   "execution_count": null,
   "id": "bf4e32b2",
   "metadata": {},
   "outputs": [],
   "source": [
    "class Solution:\n",
    "    def maxProfit(self, prices: List[int]) -> int:\n",
    "        # Initiate variables \n",
    "        purchased = float('inf')\n",
    "        running_profit = 0\n",
    "        overall_profits = []\n",
    "        \n",
    "        # Loop \n",
    "        for day, price in enumerate(prices):\n",
    "            # Purchase\n",
    "            if prices <= purchased:\n",
    "                purchased = price\n",
    "\n",
    "                # Add running profit to overall profit \n",
    "                overall_profits.append(running_profit)\n",
    "\n",
    "            else:\n",
    "                # Incremebt the running profit\n",
    "                running_profit += price\n",
    "\n",
    "                # Set the current price as purchased\n",
    "                purchased = price"
   ]
  },
  {
   "cell_type": "markdown",
   "id": "18d95bef",
   "metadata": {},
   "source": [
    "## 📌 Peak Index In A Mountain Array (LC-852)"
   ]
  },
  {
   "cell_type": "markdown",
   "id": "b5b50aee",
   "metadata": {},
   "source": [
    "#### 1. Sub-Optimal (O(n))"
   ]
  },
  {
   "cell_type": "code",
   "execution_count": null,
   "id": "4152e050",
   "metadata": {},
   "outputs": [],
   "source": [
    "class Solution:\n",
    "    def peakIndexInMountainArray(self, arr: List[int]) -> int:\n",
    "        # Initialte \n",
    "        height = 0\n",
    "        result = 0\n",
    "\n",
    "        # Loop\n",
    "        for idx, peak in enumerate(arr):\n",
    "            # \n",
    "            if peak > height:\n",
    "                result = idx\n",
    "                height = peak\n",
    "\n",
    "        return result\n",
    "\n",
    "sol = Solution()\n",
    "sol.peakIndexInMountainArray(arr = [0,10,5,2])"
   ]
  },
  {
   "cell_type": "markdown",
   "id": "b043567c",
   "metadata": {},
   "source": [
    "#### 2. Optimal (O(logn))"
   ]
  },
  {
   "cell_type": "code",
   "execution_count": null,
   "id": "c831a6e2",
   "metadata": {},
   "outputs": [],
   "source": [
    "class Solution:\n",
    "    def peakIndexInMountainArray(self, arr: List[int]) -> int:\n",
    "        # Variables \n",
    "        left = 0\n",
    "        right = len(arr) - 1\n",
    "\n",
    "        # Loop\n",
    "        while left < right:\n",
    "            # Calculate the mid\n",
    "            mid = left + right // 2\n",
    "\n",
    "            # Check for condition \n",
    "            if arr[mid] < arr[mid + 1]:\n",
    "                left = mid + 1\n",
    "            \n",
    "            else:\n",
    "                right = mid\n",
    "        \n",
    "        return left"
   ]
  },
  {
   "cell_type": "markdown",
   "id": "d4cf46c8",
   "metadata": {},
   "source": [
    "## 📌 Longest Palindromic Substring (LC-5)"
   ]
  },
  {
   "cell_type": "code",
   "execution_count": null,
   "id": "a0afe9ab",
   "metadata": {},
   "outputs": [],
   "source": [
    "class Solution:\n",
    "    def longestPalindrome(self, s: str) -> str:\n",
    "        # Define\n",
    "        result = \"\"\n",
    "\n",
    "        # Define expand function \n",
    "        def expand(left, right):\n",
    "            # Loop until elements matches \n",
    "            while left >= 0 and right < len(s) and s[left] == s[right]:\n",
    "                left -= 1\n",
    "                right += 1\n",
    "            \n",
    "            return s[left+1 : right]\n",
    "        \n",
    "        # Loop\n",
    "        for idx in range(len(s)):\n",
    "            # For odd \n",
    "            odd = expand(left= idx, right= idx)\n",
    "\n",
    "            # For even\n",
    "            even = expand(left=idx, right=idx+1)\n",
    "\n",
    "            # Check which one is longer\n",
    "            longer = odd if len(odd) > len(even) else even\n",
    "\n",
    "            # Final \n",
    "            if len(longer) > len(result):\n",
    "                result = longer\n",
    "        \n",
    "        return result\n"
   ]
  },
  {
   "cell_type": "markdown",
   "id": "669722c1",
   "metadata": {},
   "source": [
    "## 📌 Rotate Array (LC-189)"
   ]
  },
  {
   "cell_type": "code",
   "execution_count": null,
   "id": "43d4f148",
   "metadata": {},
   "outputs": [],
   "source": [
    "from typing import List\n",
    "\n",
    "class Solution:\n",
    "    def rotate(self, nums: List[int], k: int) -> None:\n",
    "        \"\"\"\n",
    "        Do not return anything, modify nums in-place instead.\n",
    "        \"\"\"\n",
    "        n = len(nums)\n",
    "        k %= n\n",
    "        nums[:] = nums[-k:] + nums[:-k]\n",
    "\n",
    "sol = Solution()\n",
    "sol.rotate(nums = [1,2,3,4,5,6,7], k = 3)"
   ]
  },
  {
   "cell_type": "markdown",
   "id": "a52eb0b8",
   "metadata": {},
   "source": [
    "## 📌 Rotate List (LC-61)"
   ]
  },
  {
   "cell_type": "code",
   "execution_count": null,
   "id": "e8c9f40c",
   "metadata": {},
   "outputs": [],
   "source": [
    "# Definition for singly-linked list.\n",
    "# class ListNode:\n",
    "#     def __init__(self, val=0, next=None):\n",
    "#         self.val = val\n",
    "#         self.next = next\n",
    "class Solution:\n",
    "    def rotateRight(self, head: Optional[ListNode], k: int) -> Optional[ListNode]:\n",
    "        # Edge conditions \n",
    "        if not head or not head.next or k == 0:\n",
    "            return head\n",
    "        \n",
    "        # Get the length and make it circular\n",
    "        pointer = head \n",
    "        length = 1\n",
    "        while pointer.next:\n",
    "            length += 1\n",
    "            pointer = pointer.next\n",
    "        \n",
    "        # Make existing list Cicular\n",
    "        pointer.next = head\n",
    "\n",
    "        # Optimal number of rotations \n",
    "        k %= length\n",
    "\n",
    "        rotation_point = length - k - 1\n",
    "\n",
    "        new_tail = head\n",
    "        for _ in range(rotation_point):\n",
    "            new_tail = new_tail.next\n",
    "\n",
    "        new_head = new_tail.next\n",
    "        new_tail.next = None\n",
    "\n",
    "        return new_head"
   ]
  },
  {
   "cell_type": "markdown",
   "id": "d19d3aae",
   "metadata": {},
   "source": [
    "## 📌 Sort Colors (LC-75)"
   ]
  },
  {
   "cell_type": "code",
   "execution_count": null,
   "id": "7f2f722a",
   "metadata": {},
   "outputs": [],
   "source": [
    "class Solution:\n",
    "    def sortColors(self, nums: List[int]) -> None:\n",
    "        \"\"\"\n",
    "        Do not return anything, modify nums in-place instead.\n",
    "        \"\"\"\n",
    "        # Initiate the credentials \n",
    "        low, i, high = 0, 0, len(nums) - 1\n",
    "\n",
    "        # Loop \n",
    "        while i <= high:\n",
    "            if nums[i] == 2:\n",
    "                # Swap current with high \n",
    "                nums[i] = nums[high]\n",
    "                nums[high] = 2\n",
    "                # Decrease the pointer index \n",
    "                high -= 1\n",
    "\n",
    "            elif nums[i] == 0:\n",
    "                # Swap the current low value \n",
    "                nums[i] = nums[low] \n",
    "                nums[low] = 0\n",
    "                # Increment the pointer \n",
    "                low += 1\n",
    "                i += 1\n",
    "            \n",
    "            else: \n",
    "                # Value is 1\n",
    "                i += 1\n",
    "\n",
    "\n",
    "sol = Solution()\n",
    "sol.sortColors(nums= [2,0,2,1,1,0])\n"
   ]
  },
  {
   "cell_type": "code",
   "execution_count": null,
   "id": "bdec54b3",
   "metadata": {},
   "outputs": [],
   "source": [
    " "
   ]
  }
 ],
 "metadata": {
  "kernelspec": {
   "display_name": "general",
   "language": "python",
   "name": "python3"
  },
  "language_info": {
   "codemirror_mode": {
    "name": "ipython",
    "version": 3
   },
   "file_extension": ".py",
   "mimetype": "text/x-python",
   "name": "python",
   "nbconvert_exporter": "python",
   "pygments_lexer": "ipython3",
   "version": "3.11.13"
  }
 },
 "nbformat": 4,
 "nbformat_minor": 5
}
