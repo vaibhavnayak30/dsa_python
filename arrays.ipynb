{
 "cells": [
  {
   "cell_type": "markdown",
   "id": "2ab6d46f",
   "metadata": {},
   "source": [
    "## 📌Minimum in Rotated Sorted "
   ]
  },
  {
   "cell_type": "code",
   "execution_count": null,
   "id": "febfc648",
   "metadata": {},
   "outputs": [],
   "source": [
    "def minRotatedSorted(arr):\n",
    "    '''Modified Binary Search'''\n",
    "    low_index = 0\n",
    "    high_index = len(arr) - 1\n",
    "\n",
    "    while low_index < high_index:\n",
    "        low_value = arr[low_index]\n",
    "\n",
    "        mid_index = low_index + high_index // 2\n",
    "\n",
    "        if arr[mid_index] > arr[high_index]:\n",
    "            low_index = mid_index + 1\n",
    "        \n",
    "        else:\n",
    "            high_index = mid_index\n",
    "        \n",
    "    \n",
    "    return arr[low_index]\n",
    "\n",
    "\n",
    "minRotatedSorted([5, 6, 1, 2, 3, 4])\n",
    "        \n"
   ]
  },
  {
   "cell_type": "markdown",
   "id": "eedd7644",
   "metadata": {},
   "source": [
    "## 📌Rotated Sorted"
   ]
  },
  {
   "cell_type": "markdown",
   "id": "655820ef",
   "metadata": {},
   "source": [
    "### 1. Find minimum in rotated sorted"
   ]
  },
  {
   "cell_type": "code",
   "execution_count": null,
   "id": "34f01150",
   "metadata": {},
   "outputs": [],
   "source": [
    "def searchRotatedSorted(arr, key):\n",
    "    low_index = 0\n",
    "    high_index = len(arr) - 1\n",
    "\n",
    "    while low_index <= high_index:\n",
    "        # Calculate middle\n",
    "        mid_index = (low_index + high_index) // 2\n",
    "\n",
    "        # Check for values \n",
    "        if arr[mid_index] == key:\n",
    "            return mid_index\n",
    "        \n",
    "        # When key is less than middle value\n",
    "        elif key <= arr[mid_index]:\n",
    "            # Case 1\n",
    "            if key >= arr[low_index]:\n",
    "                high_index = mid_index\n",
    "            \n",
    "            elif key < arr[low_index]:\n",
    "                low_index = mid_index + 1\n",
    "\n",
    "        # When key is more than middle\n",
    "        elif key > arr[mid_index]:\n",
    "            # Case\n",
    "            low_index = (mid_index + 1)\n",
    "    \n",
    "    return -1\n",
    "\n",
    "searchRotatedSorted([4,5,6,7,0,1,2], 0)"
   ]
  },
  {
   "cell_type": "markdown",
   "id": "2fea38da",
   "metadata": {},
   "source": [
    "### 2. Search in rotated sorted (with distinct integers)"
   ]
  },
  {
   "cell_type": "code",
   "execution_count": null,
   "id": "157a4920",
   "metadata": {},
   "outputs": [],
   "source": [
    "class Solution:\n",
    "    def search(self, nums: List[int], target: int) -> int:\n",
    "        # define left and right indexes\n",
    "        left = 0\n",
    "        right = len(nums) -1\n",
    "        \n",
    "        # start the loop\n",
    "        while left <= right:\n",
    "            # calculate mid value and match with target \n",
    "            mid = (left + right) // 2\n",
    "            \n",
    "            if nums[mid] == target:\n",
    "                return mid\n",
    "            \n",
    "            # check which side of mid is sorted \n",
    "            # left sorted\n",
    "            elif nums[left] <= nums[mid]:\n",
    "                # check which side of mid target lies \n",
    "                if nums[left] <= target < nums[mid]:\n",
    "                    right = (mid - 1)\n",
    "\n",
    "                else:\n",
    "                    left = (mid + 1)\n",
    "\n",
    "            # right sorted \n",
    "            else:\n",
    "                # check which side of mid target lies \n",
    "                if nums[mid] < target <= nums[right]:\n",
    "                    left = (mid + 1)\n",
    "                \n",
    "                else:\n",
    "                    right = (mid - 1)\n",
    "            \n",
    "        return -1"
   ]
  },
  {
   "cell_type": "markdown",
   "id": "8ca6faef",
   "metadata": {},
   "source": [
    "### 3. Search in rotated sorted (with non distinct integers)"
   ]
  },
  {
   "cell_type": "code",
   "execution_count": null,
   "id": "cb3e2cb0",
   "metadata": {},
   "outputs": [],
   "source": [
    "class Solution:\n",
    "    def search(self, nums: List[int], target: int) -> int:\n",
    "        # define left and right indexes\n",
    "        left = 0\n",
    "        right = len(nums) -1\n",
    "        \n",
    "        # start the loop\n",
    "        while left <= right:\n",
    "            # calculate mid value and match with target \n",
    "            mid = (left + right) // 2\n",
    "            \n",
    "            if nums[mid] == target:\n",
    "                return True\n",
    "            \n",
    "            # if duplicate block the decision \n",
    "            if nums[left] == nums[mid] == nums[right]:\n",
    "                left += 1\n",
    "                right -= 1        \n",
    "            \n",
    "            # check which side of mid is sorted \n",
    "            # left sorted\n",
    "            elif nums[left] <= nums[mid]:\n",
    "                # check which side of mid target lies \n",
    "                if nums[left] <= target < nums[mid]:\n",
    "                    right = (mid - 1)\n",
    "\n",
    "                else:\n",
    "                    left = (mid + 1)\n",
    "\n",
    "            # right sorted \n",
    "            else:\n",
    "                # check which side of mid target lies \n",
    "                if nums[mid] < target <= nums[right]:\n",
    "                    left = (mid + 1)\n",
    "                \n",
    "                else:\n",
    "                    right = (mid - 1)\n",
    "            \n",
    "        return False"
   ]
  },
  {
   "cell_type": "markdown",
   "id": "e6356712",
   "metadata": {},
   "source": [
    "## 📌3 Sum"
   ]
  },
  {
   "cell_type": "code",
   "execution_count": null,
   "id": "07e646be",
   "metadata": {},
   "outputs": [],
   "source": [
    "from typing import List\n",
    "class Solution:\n",
    "    def threeSum(self, nums: List[int]) -> List[List[int]]:\n",
    "        # Sort the array\n",
    "        nums.sort()\n",
    "\n",
    "        # Initiate the final list\n",
    "        result = []\n",
    "\n",
    "        for i in range(len(nums)):\n",
    "            # Skip duplicates\n",
    "            if i > 0 and nums[i] == nums[i - 1]:\n",
    "                continue\n",
    "\n",
    "            # Calculated the target sum to be calculated \n",
    "            target = -nums[i]\n",
    "\n",
    "            # Mark left and right pointers \n",
    "            leftIdx  = (i+1) \n",
    "            rightIdx = (len(nums) - 1)\n",
    "\n",
    "            # 2 Sum Loop\n",
    "            while leftIdx < rightIdx:\n",
    "                curSum = nums[leftIdx] + nums[rightIdx]\n",
    "\n",
    "                if curSum > target:\n",
    "                    rightIdx -= 1\n",
    "\n",
    "                elif curSum < target:\n",
    "                    leftIdx += 1\n",
    "\n",
    "                elif curSum == target:\n",
    "                    result.append([nums[i], nums[leftIdx], nums[rightIdx]])\n",
    "                    leftIdx += 1\n",
    "                    rightIdx -= 1\n",
    "\n",
    "                    while leftIdx < rightIdx and nums[leftIdx] == nums[leftIdx - 1]:\n",
    "                        leftIdx += 1\n",
    "                    while leftIdx < rightIdx and nums[rightIdx] == nums[rightIdx + 1]:\n",
    "                        rightIdx -= 1 \n",
    "        \n",
    "        return result\n",
    "    \n",
    "\n",
    "sol = Solution()\n",
    "sol.threeSum(nums=[-2,0,3,-1,4,0,3,4,1,1,1,-3,-5,4,0])\n"
   ]
  },
  {
   "cell_type": "markdown",
   "id": "4989986f",
   "metadata": {},
   "source": [
    "## 📌Majority Element (Moore's Voting Algo)"
   ]
  },
  {
   "cell_type": "code",
   "execution_count": null,
   "id": "b84122d2",
   "metadata": {},
   "outputs": [],
   "source": [
    "class Solution:\n",
    "    def majorityElement(self, nums: List[int]) -> int:\n",
    "        # Assign candidate and count variables \n",
    "        candidate = None\n",
    "        count= 0\n",
    "        \n",
    "        # Main loop\n",
    "        for element in nums:\n",
    "            # Initialise candidate to current element if count is 0\n",
    "            if count == 0:\n",
    "                candidate = element\n",
    "            \n",
    "            # Increase or decrease the count based on condition\n",
    "            to_add = (1 if element==candidate else -1)\n",
    "            count += to_add\n",
    "\n",
    "        if nums.count(candidate) > (len(nums) // 2):\n",
    "            return candidate\n"
   ]
  },
  {
   "cell_type": "code",
   "execution_count": null,
   "id": "453b9a86",
   "metadata": {},
   "outputs": [],
   "source": [
    "a = Solution()\n",
    "a.majorityElement([3,2,3])"
   ]
  },
  {
   "cell_type": "markdown",
   "id": "abf3c08c",
   "metadata": {},
   "source": [
    "## 📌Extended Moore's Algorithm"
   ]
  },
  {
   "cell_type": "markdown",
   "id": "0974234a",
   "metadata": {},
   "source": [
    "### 1. Laymen Approach"
   ]
  },
  {
   "cell_type": "code",
   "execution_count": null,
   "id": "a4cd1f28",
   "metadata": {},
   "outputs": [],
   "source": [
    "from typing import List\n",
    "class Solution:\n",
    "    def majorityElement(self, nums: List[int]) -> List[int]:\n",
    "        # Initiate a counter dictionary\n",
    "        counter = {}\n",
    "        count = len(nums) // 3\n",
    "        result = []\n",
    "\n",
    "        # Loop to generate the counter for each elements \n",
    "        for element in nums:\n",
    "            # Check if the element is in hashmap and initialise to 0\n",
    "            if not element in counter:\n",
    "                counter[element] = 0\n",
    "            \n",
    "            # Increment the counter for the element \n",
    "            counter[element] += 1\n",
    "\n",
    "        # Loop to count the number of elements \n",
    "        for element, value in counter.items():\n",
    "            # Check for the condition \n",
    "            if value > count:\n",
    "                result.append(element)\n",
    "        \n",
    "        # Return the result\n",
    "        return result\n",
    "    \n",
    "a = Solution()\n",
    "a.majorityElement([1,2])"
   ]
  },
  {
   "cell_type": "markdown",
   "id": "32702eac",
   "metadata": {},
   "source": [
    "## 📌 Find Duplicate Number"
   ]
  },
  {
   "cell_type": "markdown",
   "id": "a362165b",
   "metadata": {},
   "source": [
    "### 1. Brute Force"
   ]
  },
  {
   "cell_type": "code",
   "execution_count": null,
   "id": "3e939b42",
   "metadata": {},
   "outputs": [],
   "source": [
    "class Solution:\n",
    "    def findDuplicate(self, nums: List[int]) -> int:\n",
    "        # Create an empty set for the elements checked\n",
    "        elements= set()\n",
    "\n",
    "        # Loop over each element -> Check if present in set \n",
    "        # If not present -> Add to set \n",
    "        for num in nums:\n",
    "            if num in elements:\n",
    "                return num\n",
    "            \n",
    "            # If not present -> Add num to set \n",
    "            elements.add(num)\n",
    "\n",
    "            \n",
    "a = Solution()\n",
    "duplicate = a.findDuplicate([1,3,4,2,2])\n",
    "print(duplicate)"
   ]
  },
  {
   "cell_type": "markdown",
   "id": "8fe623fb",
   "metadata": {},
   "source": [
    "### 2. Optimized Solution\n",
    "#### Fast and Slow Pointers"
   ]
  },
  {
   "cell_type": "code",
   "execution_count": null,
   "id": "22243be8",
   "metadata": {},
   "outputs": [],
   "source": [
    "\"\"\"\n",
    "Slow and Fast pointer approach works under specific conditions:\n",
    "    - (n+1) integers\n",
    "    - All numbers are in range 1 to n\n",
    "    - There is exactly one duplicate (may repeat multiple times) \n",
    "\"\"\"\n",
    "class Solution:\n",
    "    def findDuplicate(self, nums: List[int]) -> int:\n",
    "        slow = nums[0]\n",
    "        fast = nums[0]\n",
    "\n",
    "        while True:\n",
    "            slow = nums[slow]\n",
    "            fast = nums[nums[fast]]\n",
    "\n",
    "            if slow == fast:\n",
    "                # cycle is present\n",
    "                # shift slow to start of the \n",
    "                # move both slow and fast pointer in same direct one step a time\n",
    "                break\n",
    "        \n",
    "        slow = nums[0]\n",
    "        while slow != fast:\n",
    "            slow = nums[slow]\n",
    "            fast = nums[fast]\n",
    "\n",
    "        return slow"
   ]
  },
  {
   "cell_type": "code",
   "execution_count": null,
   "id": "9e9c84bc",
   "metadata": {},
   "outputs": [],
   "source": [
    "class Solution:\n",
    "    def maximumProduct(self, nums: List[int]) -> int:\n",
    "        # Assign two pointers at distance of 3 from each other \n",
    "        starting_pointer = 0\n",
    "        mid_pointer = 1\n",
    "        ending_pointer  = 2\n",
    "        result = nums[starting_pointer] * nums[mid_pointer] * nums[ending_pointer]\n",
    "\n",
    "        # Start the loop\n",
    "        for i in range(3, len(nums)):\n",
    "            # Calculate the product \n",
    "            temp_result = nums[i-2] * nums[i-1] * nums[i]\n",
    "\n",
    "            if temp_result > result:\n",
    "                result = temp_result\n",
    "\n",
    "        return result\n",
    "\n",
    "        "
   ]
  },
  {
   "cell_type": "markdown",
   "id": "2f98775f",
   "metadata": {},
   "source": [
    "## 📌 Longest Substring Without Repearing Character (LT-3)\n",
    "- Non - repeating characters, think of using set() or deque()\n",
    "- Calculate result in each iterations "
   ]
  },
  {
   "cell_type": "code",
   "execution_count": null,
   "id": "180a2828",
   "metadata": {},
   "outputs": [],
   "source": [
    "class Solution:\n",
    "    def lengthOfLongestSubstring(self, s: str) -> int:\n",
    "        # Initialise the pointers and set \n",
    "        left = 0\n",
    "        result = 0\n",
    "        char_set = set()\n",
    "\n",
    "        # Loop through the elements \n",
    "        for right in range(len(s)):\n",
    "            while s[right] in char_set:\n",
    "                # Remove the left element \n",
    "                char_set.remove(s[left])\n",
    "\n",
    "                # Move left pointer\n",
    "                left += 1\n",
    "\n",
    "            # Add current to set\n",
    "            char_set.add(s[right])\n",
    "\n",
    "            # Check for current length \n",
    "            result = max(result, len(char_set))\n",
    "\n",
    "        return result\n",
    "\n",
    "sol = Solution()\n",
    "print(sol.lengthOfLongestSubstring(\"pwwkew\"))"
   ]
  },
  {
   "cell_type": "markdown",
   "id": "838bb1ff",
   "metadata": {},
   "source": [
    "## 📌 Maximum Average Subarray (LC-643)"
   ]
  },
  {
   "cell_type": "markdown",
   "id": "3b9dd5d5",
   "metadata": {},
   "source": [
    "#### 1. Fist Approach"
   ]
  },
  {
   "cell_type": "code",
   "execution_count": null,
   "id": "0a4347a5",
   "metadata": {},
   "outputs": [],
   "source": [
    "from typing import List\n",
    "\n",
    "class Solution:\n",
    "    def findMaxAverage(self, nums: List[int], k: int) ->  float:\n",
    "        # Initialise the left pointer, results\n",
    "        left = 0\n",
    "        running_sum= 0\n",
    "        result = float(\"-inf\")\n",
    "\n",
    "        # Loop through the list \n",
    "        for right in range(len(nums)):\n",
    "            # Check if window exists\n",
    "            if right-left == k-1:\n",
    "                running_sum += nums[right]\n",
    "\n",
    "                # Calculate the average\n",
    "                curr_avg = running_sum / k\n",
    "\n",
    "                # Check for max avg\n",
    "                result = max(result, curr_avg)\n",
    "\n",
    "                # Move the left pointer\n",
    "                running_sum -= nums[left]\n",
    "                left += 1\n",
    "\n",
    "            else:\n",
    "                # Add current element to running sum\n",
    "                running_sum += nums[right]\n",
    "        \n",
    "        return result\n"
   ]
  },
  {
   "cell_type": "markdown",
   "id": "f89bdf29",
   "metadata": {},
   "source": [
    "#### 2. Optimised Approach\n",
    "- Don't recalculate window sum everytime, else add one in front and remove one from rear \n",
    "- We can use sum to calculate sum of list "
   ]
  },
  {
   "cell_type": "code",
   "execution_count": null,
   "id": "5f973b42",
   "metadata": {},
   "outputs": [],
   "source": [
    "class Solution:\n",
    "    def findMaxAverage(self, nums: List[int], k: int) ->  float:\n",
    "        # Caculate first sum \n",
    "        window_sum = sum(nums[0:k])\n",
    "        result = window_sum\n",
    "        \n",
    "        # Loop through the elements \n",
    "        for i in range(k, len(nums)):\n",
    "            # Get the sum of the window \n",
    "            window_sum = (window_sum + nums[i]) - nums[i-k]\n",
    "\n",
    "            # Compare the current window sum with exisitng \n",
    "            result = max(window_sum, result)\n",
    "\n",
    "        return result / k"
   ]
  },
  {
   "cell_type": "markdown",
   "id": "5cc6a78e",
   "metadata": {},
   "source": [
    "## 📌 Minimum Size Subarray Sum (LC-209)\n",
    "\n",
    "Errors\n",
    "- Do not calculate sum everytime \n",
    "- Do not create a new slice everytime \n",
    "- Starting length can be length of the list instead of inf"
   ]
  },
  {
   "cell_type": "code",
   "execution_count": null,
   "id": "db66610e",
   "metadata": {},
   "outputs": [],
   "source": [
    "class Solution:\n",
    "    def minSubArrayLen(self, target: int, nums: List[int]) -> int:\n",
    "        # Initialise left and right pointers \n",
    "        left = 0\n",
    "        # result = float(\"inf\")\n",
    "        result = len(nums) + 1\n",
    "        curr_sum = 0\n",
    "\n",
    "        for i in range(len(nums)):\n",
    "            # Check for sum for current slice \n",
    "            curr_sum = curr_sum + nums[i]\n",
    "\n",
    "            # Check if curr sum is more than target \n",
    "            while curr_sum >= target:\n",
    "                # Compare current length with previous length \n",
    "                # result = min(result, len(nums[left: i+1]))\n",
    "                result = min(result, i-left+1)\n",
    "\n",
    "                # Shift left pointer by 1\n",
    "                left_curr = nums[left]\n",
    "                left += 1\n",
    "\n",
    "                # Recalculate sum\n",
    "                curr_sum = curr_sum - left_curr\n",
    "            \n",
    "        return 0 if result == float('inf') else result"
   ]
  },
  {
   "cell_type": "code",
   "execution_count": null,
   "id": "72c53161",
   "metadata": {},
   "outputs": [],
   "source": []
  }
 ],
 "metadata": {
  "kernelspec": {
   "display_name": "general",
   "language": "python",
   "name": "python3"
  },
  "language_info": {
   "codemirror_mode": {
    "name": "ipython",
    "version": 3
   },
   "file_extension": ".py",
   "mimetype": "text/x-python",
   "name": "python",
   "nbconvert_exporter": "python",
   "pygments_lexer": "ipython3",
   "version": "3.11.13"
  }
 },
 "nbformat": 4,
 "nbformat_minor": 5
}
