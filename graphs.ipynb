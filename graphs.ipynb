{
 "cells": [
  {
   "cell_type": "markdown",
   "id": "9379990b",
   "metadata": {},
   "source": [
    "### 📌 Breadth First Search (BFS)"
   ]
  },
  {
   "cell_type": "code",
   "execution_count": 1,
   "id": "b327e8cf",
   "metadata": {},
   "outputs": [],
   "source": [
    "from collections import deque\n",
    "\n",
    "def bfs(graph, start):\n",
    "    visited = set()\n",
    "    queue = deque([start])\n",
    "    visited.add(start)\n",
    "\n",
    "    while queue:\n",
    "        # Take from front of queue\n",
    "        node = queue.popleft()\n",
    "        print(node, end=\" \")\n",
    "\n",
    "        # Add unvisited neighbors in the queue \n",
    "        for neighbor in graph[node]:\n",
    "            if neighbor not in visited:\n",
    "                visited.add(neighbor)\n",
    "                queue.append(neighbor)\n"
   ]
  },
  {
   "cell_type": "code",
   "execution_count": 2,
   "id": "12cd6457",
   "metadata": {},
   "outputs": [
    {
     "name": "stdout",
     "output_type": "stream",
     "text": [
      "0 1 3 2 "
     ]
    }
   ],
   "source": [
    "graph = {\n",
    "    0 : [1,3],\n",
    "    1 : [0,2],\n",
    "    2 : [1,3],\n",
    "    3 : [0,2]\n",
    "}\n",
    "\n",
    "bfs(graph, 0)"
   ]
  },
  {
   "cell_type": "markdown",
   "id": "54fb8b38",
   "metadata": {},
   "source": [
    "### 📌 DFS (Depth First Search)"
   ]
  },
  {
   "cell_type": "code",
   "execution_count": 9,
   "id": "68c2a0b8",
   "metadata": {},
   "outputs": [],
   "source": [
    "def dfs(graph, visited, node):\n",
    "    if node in visited:\n",
    "        return\n",
    "    \n",
    "    visited.add(node)\n",
    "    print(node, end=\" \")\n",
    "\n",
    "    for neighbor in graph[node]:\n",
    "        if neighbor not in visited:\n",
    "            dfs(graph, visited, neighbor)"
   ]
  },
  {
   "cell_type": "code",
   "execution_count": null,
   "id": "5904a871",
   "metadata": {},
   "outputs": [
    {
     "name": "stdout",
     "output_type": "stream",
     "text": [
      "0 1 2 3 "
     ]
    }
   ],
   "source": [
    "graph = {\n",
    "    0 : [1,3],\n",
    "    1 : [0,2],\n",
    "    2 : [1,3],\n",
    "    3 : [0,2]\n",
    "}\n",
    "\n",
    "visited = set() \n",
    "dfs(graph, visited, 0)"
   ]
  },
  {
   "cell_type": "markdown",
   "id": "192cf89b",
   "metadata": {},
   "source": [
    "### Number of Islands"
   ]
  },
  {
   "cell_type": "code",
   "execution_count": null,
   "id": "0092875a",
   "metadata": {},
   "outputs": [],
   "source": [
    "from typing import List\n",
    "\n",
    "class Solution:\n",
    "    def numIslands(self, grid: List[List[str]]) -> int:\n",
    "        if not grid:\n",
    "            return 0\n",
    "        \n",
    "        rows, columns = len(grid) , len(grid[0])\n",
    "        islands = 0\n",
    "\n",
    "        def dfs(r, c):\n",
    "            # Boundard check\n",
    "            if r<0 or r>=rows or c<0 or c>=columns or grid[r][c] == \"0\":\n",
    "                return\n",
    "\n",
    "            # Turn current node value to 0\n",
    "            grid[r][c] = \"0\"\n",
    "\n",
    "            # Call dfs in all four directions \n",
    "            dfs(r+1, c)\n",
    "            dfs(r-1, c)\n",
    "            dfs(r, c+1)\n",
    "            dfs(r, c-1)\n",
    "\n",
    "\n",
    "        # Loop through each element of each row and column \n",
    "        for r in range(rows):\n",
    "            for c in range(columns):\n",
    "                if grid[r][c] == \"1\":\n",
    "                    # Increse the counter for islands \n",
    "                    islands += 1\n",
    "\n",
    "                    # Call dfs with current start node\n",
    "                    dfs(r, c)\n",
    "        \n",
    "        return islands\n"
   ]
  },
  {
   "cell_type": "code",
   "execution_count": 14,
   "id": "9e2dfe80",
   "metadata": {},
   "outputs": [],
   "source": [
    "grid = [\n",
    "  [\"1\",\"1\",\"1\",\"1\",\"0\"],\n",
    "  [\"1\",\"1\",\"0\",\"1\",\"0\"],\n",
    "  [\"1\",\"1\",\"0\",\"0\",\"0\"],\n",
    "  [\"0\",\"0\",\"0\",\"0\",\"0\"]\n",
    "]\n"
   ]
  },
  {
   "cell_type": "code",
   "execution_count": 16,
   "id": "d8c9193c",
   "metadata": {},
   "outputs": [
    {
     "data": {
      "text/plain": [
       "5"
      ]
     },
     "execution_count": 16,
     "metadata": {},
     "output_type": "execute_result"
    }
   ],
   "source": [
    "len(grid[0])"
   ]
  },
  {
   "cell_type": "code",
   "execution_count": null,
   "id": "8cd70bbc",
   "metadata": {},
   "outputs": [],
   "source": []
  }
 ],
 "metadata": {
  "kernelspec": {
   "display_name": "general",
   "language": "python",
   "name": "python3"
  },
  "language_info": {
   "codemirror_mode": {
    "name": "ipython",
    "version": 3
   },
   "file_extension": ".py",
   "mimetype": "text/x-python",
   "name": "python",
   "nbconvert_exporter": "python",
   "pygments_lexer": "ipython3",
   "version": "3.11.13"
  }
 },
 "nbformat": 4,
 "nbformat_minor": 5
}
