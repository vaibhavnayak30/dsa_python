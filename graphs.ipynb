{
 "cells": [
  {
   "cell_type": "markdown",
   "id": "9379990b",
   "metadata": {},
   "source": [
    "### 📌 Breadth First Search (BFS)"
   ]
  },
  {
   "cell_type": "code",
   "execution_count": null,
   "id": "b327e8cf",
   "metadata": {},
   "outputs": [],
   "source": [
    "from collections import deque\n",
    "\n",
    "def bfs(graph, start):\n",
    "    visited = set()\n",
    "    queue = deque([start])\n",
    "    visited.add(start)\n",
    "\n",
    "    while queue:\n",
    "        # Take from front of queue\n",
    "        node = queue.popleft()\n",
    "        print(node, end=\" \")\n",
    "\n",
    "        # Add unvisited neighbors in the queue \n",
    "        for neighbor in graph[node]:\n",
    "            if neighbor not in visited:\n",
    "                visited.add(neighbor)\n",
    "                queue.append(neighbor)\n"
   ]
  },
  {
   "cell_type": "code",
   "execution_count": null,
   "id": "12cd6457",
   "metadata": {},
   "outputs": [],
   "source": [
    "graph = {\n",
    "    0 : [1,3],\n",
    "    1 : [0,2],\n",
    "    2 : [1,3],\n",
    "    3 : [0,2]\n",
    "}\n",
    "\n",
    "bfs(graph, 0)"
   ]
  },
  {
   "cell_type": "markdown",
   "id": "54fb8b38",
   "metadata": {},
   "source": [
    "### 📌 DFS (Depth First Search)"
   ]
  },
  {
   "cell_type": "code",
   "execution_count": null,
   "id": "68c2a0b8",
   "metadata": {},
   "outputs": [],
   "source": [
    "def dfs(graph, visited, node):\n",
    "    if node in visited:\n",
    "        return\n",
    "    \n",
    "    visited.add(node)\n",
    "    print(node, end=\" \")\n",
    "\n",
    "    for neighbor in graph[node]:\n",
    "        if neighbor not in visited:\n",
    "            dfs(graph, visited, neighbor)"
   ]
  },
  {
   "cell_type": "code",
   "execution_count": null,
   "id": "5904a871",
   "metadata": {},
   "outputs": [],
   "source": [
    "graph = {\n",
    "    0 : [1,3],\n",
    "    1 : [0,2],\n",
    "    2 : [1,3],\n",
    "    3 : [0,2]\n",
    "}\n",
    "\n",
    "visited = set() \n",
    "dfs(graph, visited, 0)"
   ]
  },
  {
   "cell_type": "markdown",
   "id": "192cf89b",
   "metadata": {},
   "source": [
    "### 📌 Number of Islands"
   ]
  },
  {
   "cell_type": "markdown",
   "id": "34d8aa39",
   "metadata": {},
   "source": [
    "#### 1. Using DFS"
   ]
  },
  {
   "cell_type": "code",
   "execution_count": null,
   "id": "0092875a",
   "metadata": {},
   "outputs": [],
   "source": [
    "from typing import List\n",
    "\n",
    "class Solution:\n",
    "    def numIslands(self, grid: List[List[str]]) -> int:\n",
    "        if not grid:\n",
    "            return 0\n",
    "        \n",
    "        rows, columns = len(grid) , len(grid[0])\n",
    "        islands = 0\n",
    "\n",
    "        def dfs(r, c):\n",
    "            # Boundard check\n",
    "            if r<0 or r>=rows or c<0 or c>=columns or grid[r][c] == \"0\":\n",
    "                return\n",
    "\n",
    "            # Turn current node value to 0\n",
    "            grid[r][c] = \"0\"\n",
    "\n",
    "            # Call dfs in all four directions \n",
    "            dfs(r+1, c)\n",
    "            dfs(r-1, c)\n",
    "            dfs(r, c+1)\n",
    "            dfs(r, c-1)\n",
    "\n",
    "\n",
    "        # Loop through each element of each row and column \n",
    "        for r in range(rows):\n",
    "            for c in range(columns):\n",
    "                if grid[r][c] == \"1\":\n",
    "                    # Increse the counter for islands \n",
    "                    islands += 1\n",
    "\n",
    "                    # Call dfs with current start node\n",
    "                    dfs(r, c)\n",
    "        \n",
    "        return islands"
   ]
  },
  {
   "cell_type": "markdown",
   "id": "6b442480",
   "metadata": {},
   "source": [
    "#### 2. Using BFS"
   ]
  },
  {
   "cell_type": "code",
   "execution_count": 46,
   "id": "9e2dfe80",
   "metadata": {},
   "outputs": [],
   "source": [
    "from typing import List\n",
    "from collections import deque\n",
    "\n",
    "class Solution:\n",
    "    def numIslands(self, grid: List[List[str]]) -> int:\n",
    "        # Check if grid is not empty:\n",
    "        if not grid:\n",
    "            return 0\n",
    "        \n",
    "        # Fetch rows and columns in grid and initialise counter\n",
    "        rows, columns = len(grid), len(grid[0])\n",
    "        islands = 0\n",
    "        \n",
    "        def bfs(r, c):\n",
    "            # Start a queue\n",
    "            queue = deque([(r,c)])\n",
    "\n",
    "            # Mark it visited\n",
    "            visited = set([(r,c)])\n",
    "            \n",
    "            while queue:\n",
    "                # Take the first element \n",
    "                land_mass_r, land_mass_c = queue.popleft()\n",
    "\n",
    "                # Turn it to \"0\"\n",
    "                grid[land_mass_r][land_mass_c] = \"0\"\n",
    "\n",
    "                for dr, dc in  [(1,0), (-1,0), (0,1), (0,-1)]:\n",
    "                    # Get new coordinates\n",
    "                    nr,nc = land_mass_r+dr, land_mass_c+dc\n",
    "                    \n",
    "                    if 0<= nr < rows and 0<= nc < columns and grid[nr][nc] == \"1\" and (nr,nc) not in visited:\n",
    "                        queue.append((nr,nc))\n",
    "                        visited.add((nr,nc))\n",
    "                        \n",
    "        # Loop through each element in each row and column \n",
    "        for r in range(rows):\n",
    "            for c in range(columns):\n",
    "                if grid[r][c] == \"1\":\n",
    "                    # Increment the island counter\n",
    "                    islands += 1\n",
    "                    \n",
    "                    # Perform bfs for connecting \"1\"\n",
    "                    bfs(r, c)\n",
    "\n",
    "        return islands\n"
   ]
  },
  {
   "cell_type": "code",
   "execution_count": 47,
   "id": "f1b9e2d1",
   "metadata": {},
   "outputs": [
    {
     "data": {
      "text/plain": [
       "3"
      ]
     },
     "execution_count": 47,
     "metadata": {},
     "output_type": "execute_result"
    }
   ],
   "source": [
    "grid = [\n",
    "  [\"1\",\"1\",\"0\",\"0\",\"0\"],\n",
    "  [\"1\",\"1\",\"0\",\"0\",\"0\"],\n",
    "  [\"0\",\"0\",\"1\",\"0\",\"0\"],\n",
    "  [\"0\",\"0\",\"0\",\"1\",\"1\"]\n",
    "]\n",
    "\n",
    "s = Solution()\n",
    "s.numIslands(grid)"
   ]
  },
  {
   "cell_type": "markdown",
   "id": "7df89213",
   "metadata": {},
   "source": [
    "### 3. Alternative DFS Approach"
   ]
  },
  {
   "cell_type": "code",
   "execution_count": 54,
   "id": "3848e23f",
   "metadata": {},
   "outputs": [
    {
     "data": {
      "text/plain": [
       "3"
      ]
     },
     "execution_count": 54,
     "metadata": {},
     "output_type": "execute_result"
    }
   ],
   "source": [
    "from typing import List\n",
    "\n",
    "class Solution:\n",
    "    def numIslands(self, grid: List[List[str]]) -> int:\n",
    "        # Case when grid is empty\n",
    "        if not grid:\n",
    "            return 0\n",
    "        \n",
    "        # Fetch number of rows and columns in the grid \n",
    "        rows, columns = len(grid), len(grid[0])\n",
    "\n",
    "        # Initialise the counter for islands \n",
    "        islands = 0\n",
    "\n",
    "        def dfs(visited, r,c):\n",
    "            if r < 0 or r >= rows or c >= columns or c < 0:\n",
    "                return\n",
    "            \n",
    "            # Check boundary condition\n",
    "            # Check value and return if \"0\"\n",
    "            if grid[r][c] == \"0\":\n",
    "                return\n",
    "            \n",
    "            # Mark the land as visited \n",
    "            grid[r][c] = \"0\"\n",
    "\n",
    "            # Initialise the transition from current position to all 4 directions\n",
    "            # Apply boundary for the grid \n",
    "            dfs(visited, r-1, c)\n",
    "            dfs(visited, r+1, c)\n",
    "            dfs(visited, r, c+1)\n",
    "            dfs(visited, r, c-1)\n",
    "\n",
    "        # Iterate through each row and column \n",
    "        for r in range(rows):\n",
    "            for c in range(columns):\n",
    "                if grid[r][c] == \"1\":\n",
    "                    # Increment the counter by 1\n",
    "                    islands += 1\n",
    "                    visited = set()\n",
    "                    dfs(visited,r,c)\n",
    "        \n",
    "        return islands\n",
    "    \n",
    "\n",
    "grid = [\n",
    "  [\"1\",\"1\",\"0\",\"0\",\"0\"],\n",
    "  [\"1\",\"1\",\"0\",\"0\",\"0\"],\n",
    "  [\"0\",\"0\",\"1\",\"0\",\"0\"],\n",
    "  [\"0\",\"0\",\"0\",\"1\",\"1\"]\n",
    "]\n",
    "\n",
    "s = Solution()\n",
    "s.numIslands(grid)"
   ]
  },
  {
   "cell_type": "code",
   "execution_count": null,
   "id": "69edc42c",
   "metadata": {},
   "outputs": [
    {
     "data": {
      "text/plain": [
       "3"
      ]
     },
     "execution_count": 53,
     "metadata": {},
     "output_type": "execute_result"
    }
   ],
   "source": []
  },
  {
   "cell_type": "code",
   "execution_count": null,
   "id": "eae7ab3d",
   "metadata": {},
   "outputs": [],
   "source": []
  }
 ],
 "metadata": {
  "kernelspec": {
   "display_name": "general",
   "language": "python",
   "name": "python3"
  },
  "language_info": {
   "codemirror_mode": {
    "name": "ipython",
    "version": 3
   },
   "file_extension": ".py",
   "mimetype": "text/x-python",
   "name": "python",
   "nbconvert_exporter": "python",
   "pygments_lexer": "ipython3",
   "version": "3.11.13"
  }
 },
 "nbformat": 4,
 "nbformat_minor": 5
}
