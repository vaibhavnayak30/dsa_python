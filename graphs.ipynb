{
 "cells": [
  {
   "cell_type": "markdown",
   "id": "9379990b",
   "metadata": {},
   "source": [
    "### 📌 Breadth First Search (BFS)"
   ]
  },
  {
   "cell_type": "code",
   "execution_count": 1,
   "id": "b327e8cf",
   "metadata": {},
   "outputs": [],
   "source": [
    "from collections import deque\n",
    "\n",
    "def bfs(graph, start):\n",
    "    visited = set()\n",
    "    queue = deque([start])\n",
    "    visited.add(start)\n",
    "\n",
    "    while queue:\n",
    "        # Take from front of queue\n",
    "        node = queue.popleft()\n",
    "        print(node, end=\" \")\n",
    "\n",
    "        # Add unvisited neighbors in the queue \n",
    "        for neighbor in graph[node]:\n",
    "            if neighbor not in visited:\n",
    "                visited.add(neighbor)\n",
    "                queue.append(neighbor)\n"
   ]
  },
  {
   "cell_type": "code",
   "execution_count": 2,
   "id": "12cd6457",
   "metadata": {},
   "outputs": [
    {
     "name": "stdout",
     "output_type": "stream",
     "text": [
      "0 1 3 2 "
     ]
    }
   ],
   "source": [
    "graph = {\n",
    "    0 : [1,3],\n",
    "    1 : [0,2],\n",
    "    2 : [1,3],\n",
    "    3 : [0,2]\n",
    "}\n",
    "\n",
    "bfs(graph, 0)"
   ]
  },
  {
   "cell_type": "markdown",
   "id": "54fb8b38",
   "metadata": {},
   "source": [
    "### 📌 DFS (Depth First Search)"
   ]
  },
  {
   "cell_type": "code",
   "execution_count": 9,
   "id": "68c2a0b8",
   "metadata": {},
   "outputs": [],
   "source": [
    "def dfs(graph, visited, node):\n",
    "    if node in visited:\n",
    "        return\n",
    "    \n",
    "    visited.add(node)\n",
    "    print(node, end=\" \")\n",
    "\n",
    "    for neighbor in graph[node]:\n",
    "        if neighbor not in visited:\n",
    "            dfs(graph, visited, neighbor)"
   ]
  },
  {
   "cell_type": "code",
   "execution_count": null,
   "id": "5904a871",
   "metadata": {},
   "outputs": [
    {
     "name": "stdout",
     "output_type": "stream",
     "text": [
      "0 1 2 3 "
     ]
    }
   ],
   "source": [
    "graph = {\n",
    "    0 : [1,3],\n",
    "    1 : [0,2],\n",
    "    2 : [1,3],\n",
    "    3 : [0,2]\n",
    "}\n",
    "\n",
    "visited = set() \n",
    "dfs(graph, visited, 0)"
   ]
  },
  {
   "cell_type": "code",
   "execution_count": null,
   "id": "0ccac6fa",
   "metadata": {},
   "outputs": [],
   "source": []
  }
 ],
 "metadata": {
  "kernelspec": {
   "display_name": "general",
   "language": "python",
   "name": "python3"
  },
  "language_info": {
   "codemirror_mode": {
    "name": "ipython",
    "version": 3
   },
   "file_extension": ".py",
   "mimetype": "text/x-python",
   "name": "python",
   "nbconvert_exporter": "python",
   "pygments_lexer": "ipython3",
   "version": "3.11.13"
  }
 },
 "nbformat": 4,
 "nbformat_minor": 5
}
