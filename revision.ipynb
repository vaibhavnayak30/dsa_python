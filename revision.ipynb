{
 "cells": [
  {
   "cell_type": "markdown",
   "id": "d37fac10",
   "metadata": {},
   "source": [
    "### Search Index in Rotated Sorted\n",
    "\n",
    "Idea:\n",
    "- Search which side is sorted \n",
    "- Check if target is in mid \n",
    "- Check which side of sorted target lies\n",
    "\n",
    "Mistakes:\n",
    "- Mistake in getting right pointer -> Should be (len(nums) - 1)\n",
    "- while loop condition \n",
    "- -1 return outside of loop"
   ]
  },
  {
   "cell_type": "code",
   "execution_count": 11,
   "id": "2a3c4b45",
   "metadata": {},
   "outputs": [
    {
     "data": {
      "text/plain": [
       "4"
      ]
     },
     "execution_count": 11,
     "metadata": {},
     "output_type": "execute_result"
    }
   ],
   "source": [
    "from typing import List\n",
    "class Solution:\n",
    "    def search(self, nums: List[int], target: int) -> int:\n",
    "        # Get the index of left and right pointers \n",
    "        left = 0\n",
    "        right = len(nums) - 1\n",
    "\n",
    "        while left <= right:\n",
    "            # Calculate the mid index\n",
    "            mid = (left + right) // 2\n",
    "\n",
    "            # Check for target at mid \n",
    "            if nums[mid] ==  target:\n",
    "                return mid\n",
    "\n",
    "            # Check which side of mid is sorted \n",
    "            # Left side is sorted \n",
    "            if nums[left] <= nums[mid]:\n",
    "                # If target lies on left side\n",
    "                if nums[left] <= target < nums[mid]:\n",
    "                    # Mid index becomes right index\n",
    "                    right = mid - 1\n",
    "                                        \n",
    "                # Target lies on right side \n",
    "                else:\n",
    "                    # Mid becomes left index \n",
    "                    left = mid + 1\n",
    "\n",
    "            # Right sorted\n",
    "            else:\n",
    "                # Target lies on right side \n",
    "                if nums[mid] < target <= nums[right]:\n",
    "                    # Mid becomes left index \n",
    "                    left = mid + 1\n",
    "                \n",
    "                # Target lies of left side \n",
    "                else:\n",
    "                    right = mid - 1\n",
    "            \n",
    "        return -1\n",
    "\n",
    "sol = Solution()\n",
    "sol.search(nums = [4,5,6,7,0,1,2], target = 0)\n"
   ]
  },
  {
   "cell_type": "markdown",
   "id": "846aeea2",
   "metadata": {},
   "source": [
    "### Majority Elements"
   ]
  },
  {
   "cell_type": "code",
   "execution_count": null,
   "id": "8ff89ca6",
   "metadata": {},
   "outputs": [],
   "source": []
  }
 ],
 "metadata": {
  "kernelspec": {
   "display_name": "general",
   "language": "python",
   "name": "python3"
  },
  "language_info": {
   "codemirror_mode": {
    "name": "ipython",
    "version": 3
   },
   "file_extension": ".py",
   "mimetype": "text/x-python",
   "name": "python",
   "nbconvert_exporter": "python",
   "pygments_lexer": "ipython3",
   "version": "3.11.13"
  }
 },
 "nbformat": 4,
 "nbformat_minor": 5
}
