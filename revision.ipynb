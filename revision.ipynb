{
 "cells": [
  {
   "cell_type": "markdown",
   "id": "d37fac10",
   "metadata": {},
   "source": [
    "### 📌🔖 Search Index in Rotated Sorted\n",
    "\n",
    "Idea:\n",
    "- Search which side is sorted \n",
    "- Check if target is in mid \n",
    "- Check which side of sorted target lies\n",
    "\n",
    "Mistakes:\n",
    "- Mistake in getting right pointer -> Should be (len(nums) - 1)\n",
    "- while loop condition \n",
    "- -1 return outside of loop"
   ]
  },
  {
   "cell_type": "code",
   "execution_count": 11,
   "id": "2a3c4b45",
   "metadata": {},
   "outputs": [
    {
     "data": {
      "text/plain": [
       "4"
      ]
     },
     "execution_count": 11,
     "metadata": {},
     "output_type": "execute_result"
    }
   ],
   "source": [
    "from typing import List\n",
    "class Solution:\n",
    "    def search(self, nums: List[int], target: int) -> int:\n",
    "        # Get the index of left and right pointers \n",
    "        left = 0\n",
    "        right = len(nums) - 1\n",
    "\n",
    "        while left <= right:\n",
    "            # Calculate the mid index\n",
    "            mid = (left + right) // 2\n",
    "\n",
    "            # Check for target at mid \n",
    "            if nums[mid] ==  target:\n",
    "                return mid\n",
    "\n",
    "            # Check which side of mid is sorted \n",
    "            # Left side is sorted \n",
    "            if nums[left] <= nums[mid]:\n",
    "                # If target lies on left side\n",
    "                if nums[left] <= target < nums[mid]:\n",
    "                    # Mid index becomes right index\n",
    "                    right = mid - 1\n",
    "                                        \n",
    "                # Target lies on right side \n",
    "                else:\n",
    "                    # Mid becomes left index \n",
    "                    left = mid + 1\n",
    "\n",
    "            # Right sorted\n",
    "            else:\n",
    "                # Target lies on right side \n",
    "                if nums[mid] < target <= nums[right]:\n",
    "                    # Mid becomes left index \n",
    "                    left = mid + 1\n",
    "                \n",
    "                # Target lies of left side \n",
    "                else:\n",
    "                    right = mid - 1\n",
    "            \n",
    "        return -1\n",
    "\n",
    "sol = Solution()\n",
    "sol.search(nums = [4,5,6,7,0,1,2], target = 0)\n"
   ]
  },
  {
   "cell_type": "markdown",
   "id": "846aeea2",
   "metadata": {},
   "source": [
    "### 📌🔖 Majority Elements (Boyer-Moore Voting)\n",
    "\n",
    "Idea:\n",
    "- Use count and tracker to find a candidate for the majority element\n",
    "- Performs a final validation with nums.count(tracker) to ensure the candidate really is a majority."
   ]
  },
  {
   "cell_type": "code",
   "execution_count": 14,
   "id": "8ff89ca6",
   "metadata": {},
   "outputs": [
    {
     "data": {
      "text/plain": [
       "2"
      ]
     },
     "execution_count": 14,
     "metadata": {},
     "output_type": "execute_result"
    }
   ],
   "source": [
    "class Solution:\n",
    "    def majorityElement(self, nums: List[int]) -> int: \n",
    "        count = 0\n",
    "        tracker = None\n",
    "\n",
    "        for element in nums:\n",
    "            if count == 0:\n",
    "                tracker = element \n",
    "            \n",
    "            if tracker == element:\n",
    "                count += 1 \n",
    "            \n",
    "            else:\n",
    "                count -= 1\n",
    "\n",
    "        final_count = nums.count(tracker)\n",
    "\n",
    "        if final_count > len(nums) // 2:\n",
    "            return tracker\n",
    "        \n",
    "\n",
    "sol = Solution()\n",
    "sol.majorityElement(nums= [2,2,1,1,1,2,2])\n"
   ]
  },
  {
   "cell_type": "markdown",
   "id": "f46b3584",
   "metadata": {},
   "source": [
    "### 📌🔖 Majority Elements II (Extended Boyer's Moore Voting Algorithm)"
   ]
  },
  {
   "cell_type": "code",
   "execution_count": 19,
   "id": "99d3bb1d",
   "metadata": {},
   "outputs": [
    {
     "data": {
      "text/plain": [
       "[3]"
      ]
     },
     "execution_count": 19,
     "metadata": {},
     "output_type": "execute_result"
    }
   ],
   "source": [
    "class Solution:\n",
    "    def majorityElement(self, nums: List[int]) -> List[int]:\n",
    "        # Initialise candidates and counts \n",
    "        cand1, cand2 = None, None\n",
    "        count1, count2 = 0, 0\n",
    "\n",
    "        # Loop through every elements\n",
    "        for num in nums:\n",
    "            # Check for valid conditions \n",
    "            if cand1 == num:\n",
    "                count1 += 1\n",
    "            \n",
    "            elif cand2 == num:\n",
    "                count2 += 1\n",
    "\n",
    "            elif count1 == 0:\n",
    "                cand1 = num\n",
    "                count1 = 1\n",
    "            \n",
    "            elif count2 == 0:\n",
    "                cand2 = num\n",
    "                count2 = 1\n",
    "\n",
    "            else:\n",
    "                count1 -= 1\n",
    "                count2 -= 1\n",
    "\n",
    "        # Verify \n",
    "        result = []\n",
    "        for cand in [cand1, cand2]:\n",
    "            if cand is not None and nums.count(cand) > len(nums) // 3:\n",
    "                result.append(cand)\n",
    "        \n",
    "        return result\n",
    "    \n",
    "sol = Solution()\n",
    "sol.majorityElement(nums= [3,2,3])\n"
   ]
  },
  {
   "cell_type": "markdown",
   "id": "553f330d",
   "metadata": {},
   "source": [
    "## 📌🔖 Minimum in Rotated Sorted (LC-153)"
   ]
  },
  {
   "cell_type": "code",
   "execution_count": null,
   "id": "649adcfb",
   "metadata": {},
   "outputs": [],
   "source": [
    "class Solution:\n",
    "    def findMin(self, nums: List[int]) -> int:\n",
    "        # Initialize the two pointers \n",
    "        left = 0\n",
    "        right = len(nums) - 1\n",
    "\n",
    "        # Start the loop \n",
    "        while left < right:\n",
    "            # Calculate the mid \n",
    "            mid = (left + right) // 2\n",
    "\n",
    "            # Check which side mid lies in wrt right pointer\n",
    "            # Mid lies on right side of minimum \n",
    "            if nums[mid] > nums[right]:\n",
    "                # Shift the left pointer \n",
    "                left = mid + 1\n",
    "\n",
    "            else:\n",
    "                right = mid\n",
    "        \n",
    "        return nums[left]\n"
   ]
  },
  {
   "cell_type": "markdown",
   "id": "af583b56",
   "metadata": {},
   "source": [
    "## 📌🔖 Search in Rotated Sorted With Distince Elements (LC-33)\n",
    "\n",
    "==============================================\n",
    "#### Learning\n",
    "- In case of searching for sorted side, apply target conditions on both sides, assuming either side can be sorted \n",
    "\n",
    "==============================================\n",
    "\n",
    "#### Mistakes\n",
    "- Used left < right instead of left <= right\n",
    "\n",
    "===============================================\n",
    "\n",
    "#### The core idea\n",
    "- while left <= right:\n",
    "    - You are treating both left and right as valid candidates for the answer.\n",
    "    - This is the \"inclusive\" interval [left, right].\n",
    "\n",
    "- while left < right:\n",
    "    - You are treating the interval as half-open, meaning [left, right).\n",
    "    - In this case, right is not always checked directly, so you must handle it carefully.\n",
    "    - Generally used for searching the minimum value in rotated sorted, where left side will be answer, so don't need to check right side "
   ]
  },
  {
   "cell_type": "code",
   "execution_count": 20,
   "id": "244e3321",
   "metadata": {},
   "outputs": [],
   "source": [
    "class Solution:\n",
    "    def search(self, nums: List[int], target: int) -> int:\n",
    "        # Initialise the pointers \n",
    "        left = 0\n",
    "        right = len(nums) - 1\n",
    "\n",
    "        # Start the loop\n",
    "        while left <= right:\n",
    "            # Calculate the mid \n",
    "            mid = (left + right) // 2\n",
    "\n",
    "            # Check if mid has the answer\n",
    "            if nums[mid] == target:\n",
    "                return mid\n",
    "\n",
    "            # Check which side of mid is sorted \n",
    "            # Left side sorted \n",
    "            if nums[mid] >= nums[left]:\n",
    "                # If target lies in between\n",
    "                if nums[left] <= target < nums[mid]:\n",
    "                    right = mid - 1\n",
    "\n",
    "                else:\n",
    "                    left = mid + 1\n",
    "\n",
    "            # Right side sorted \n",
    "            else:\n",
    "                # Target lies in between\n",
    "                if nums[mid] < target <= nums[right]:\n",
    "                    left = mid + 1\n",
    "                \n",
    "                else:\n",
    "                    right = mid - 1\n",
    "        \n",
    "        return -1"
   ]
  },
  {
   "cell_type": "markdown",
   "id": "6051a8a2",
   "metadata": {},
   "source": [
    "## 📌🔖 Subarray Sums Divisible by K (LC-974)"
   ]
  },
  {
   "cell_type": "code",
   "execution_count": null,
   "id": "cf94d9d2",
   "metadata": {},
   "outputs": [],
   "source": [
    "class Solution:\n",
    "    def subarraysDivByK(self, nums: List[int], k: int) -> int:\n",
    "        # Initialise the variables\n",
    "        prefix_map = defaultdict(int)\n",
    "        prefix_map[0] = 1\n",
    "        current_sum = 0\n",
    "        count = 0\n",
    "\n",
    "        # Start the loop\n",
    "        for num in nums:\n",
    "            # Calculate the current sum \n",
    "            current_sum += num\n",
    "\n",
    "            # Check for the condition \n",
    "            curr_remainder = current_sum % k\n",
    "            if curr_remainder in prefix_map:\n",
    "                # Increment the counter \n",
    "                count += prefix_map[curr_remainder]\n",
    "\n",
    "                # Increment the value in prefix_map\n",
    "                prefix_map[curr_remainder] += 1\n",
    "            \n",
    "            # Add curr_remainder to prefix_map\n",
    "            else:\n",
    "                prefix_map[curr_remainder] = 1\n",
    "\n",
    "        return count"
   ]
  }
 ],
 "metadata": {
  "kernelspec": {
   "display_name": "general",
   "language": "python",
   "name": "python3"
  },
  "language_info": {
   "codemirror_mode": {
    "name": "ipython",
    "version": 3
   },
   "file_extension": ".py",
   "mimetype": "text/x-python",
   "name": "python",
   "nbconvert_exporter": "python",
   "pygments_lexer": "ipython3",
   "version": "3.11.13"
  }
 },
 "nbformat": 4,
 "nbformat_minor": 5
}
