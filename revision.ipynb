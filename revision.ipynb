{
 "cells": [
  {
   "cell_type": "markdown",
   "id": "d37fac10",
   "metadata": {},
   "source": [
    "### Search Index in Rotated Sorted\n",
    "\n",
    "Idea:\n",
    "- Search which side is sorted \n",
    "- Check if target is in mid \n",
    "- Check which side of sorted target lies\n",
    "\n",
    "Mistakes:\n",
    "- Mistake in getting right pointer -> Should be (len(nums) - 1)\n",
    "- while loop condition \n",
    "- -1 return outside of loop"
   ]
  },
  {
   "cell_type": "code",
   "execution_count": 11,
   "id": "2a3c4b45",
   "metadata": {},
   "outputs": [
    {
     "data": {
      "text/plain": [
       "4"
      ]
     },
     "execution_count": 11,
     "metadata": {},
     "output_type": "execute_result"
    }
   ],
   "source": [
    "from typing import List\n",
    "class Solution:\n",
    "    def search(self, nums: List[int], target: int) -> int:\n",
    "        # Get the index of left and right pointers \n",
    "        left = 0\n",
    "        right = len(nums) - 1\n",
    "\n",
    "        while left <= right:\n",
    "            # Calculate the mid index\n",
    "            mid = (left + right) // 2\n",
    "\n",
    "            # Check for target at mid \n",
    "            if nums[mid] ==  target:\n",
    "                return mid\n",
    "\n",
    "            # Check which side of mid is sorted \n",
    "            # Left side is sorted \n",
    "            if nums[left] <= nums[mid]:\n",
    "                # If target lies on left side\n",
    "                if nums[left] <= target < nums[mid]:\n",
    "                    # Mid index becomes right index\n",
    "                    right = mid - 1\n",
    "                                        \n",
    "                # Target lies on right side \n",
    "                else:\n",
    "                    # Mid becomes left index \n",
    "                    left = mid + 1\n",
    "\n",
    "            # Right sorted\n",
    "            else:\n",
    "                # Target lies on right side \n",
    "                if nums[mid] < target <= nums[right]:\n",
    "                    # Mid becomes left index \n",
    "                    left = mid + 1\n",
    "                \n",
    "                # Target lies of left side \n",
    "                else:\n",
    "                    right = mid - 1\n",
    "            \n",
    "        return -1\n",
    "\n",
    "sol = Solution()\n",
    "sol.search(nums = [4,5,6,7,0,1,2], target = 0)\n"
   ]
  },
  {
   "cell_type": "markdown",
   "id": "846aeea2",
   "metadata": {},
   "source": [
    "### Majority Elements (Boyer-Moore Voting)\n",
    "\n",
    "Idea:\n",
    "- Use count and tracker to find a candidate for the majority element\n",
    "- Performs a final validation with nums.count(tracker) to ensure the candidate really is a majority."
   ]
  },
  {
   "cell_type": "code",
   "execution_count": 14,
   "id": "8ff89ca6",
   "metadata": {},
   "outputs": [
    {
     "data": {
      "text/plain": [
       "2"
      ]
     },
     "execution_count": 14,
     "metadata": {},
     "output_type": "execute_result"
    }
   ],
   "source": [
    "class Solution:\n",
    "    def majorityElement(self, nums: List[int]) -> int: \n",
    "        count = 0\n",
    "        tracker = None\n",
    "\n",
    "        for element in nums:\n",
    "            if count == 0:\n",
    "                tracker = element \n",
    "            \n",
    "            if tracker == element:\n",
    "                count += 1 \n",
    "            \n",
    "            else:\n",
    "                count -= 1\n",
    "\n",
    "        final_count = nums.count(tracker)\n",
    "\n",
    "        if final_count > len(nums) // 2:\n",
    "            return tracker\n",
    "        \n",
    "\n",
    "sol = Solution()\n",
    "sol.majorityElement(nums= [2,2,1,1,1,2,2])\n"
   ]
  },
  {
   "cell_type": "markdown",
   "id": "f46b3584",
   "metadata": {},
   "source": [
    "### Majority Elements II (Extended Boyer's Moore Voting Algorithm)"
   ]
  },
  {
   "cell_type": "code",
   "execution_count": 19,
   "id": "99d3bb1d",
   "metadata": {},
   "outputs": [
    {
     "data": {
      "text/plain": [
       "[3]"
      ]
     },
     "execution_count": 19,
     "metadata": {},
     "output_type": "execute_result"
    }
   ],
   "source": [
    "class Solution:\n",
    "    def majorityElement(self, nums: List[int]) -> List[int]:\n",
    "        # Initialise candidates and counts \n",
    "        cand1, cand2 = None, None\n",
    "        count1, count2 = 0, 0\n",
    "\n",
    "        # Loop through every elements\n",
    "        for num in nums:\n",
    "            # Check for valid conditions \n",
    "            if cand1 == num:\n",
    "                count1 += 1\n",
    "            \n",
    "            elif cand2 == num:\n",
    "                count2 += 1\n",
    "\n",
    "            elif count1 == 0:\n",
    "                cand1 = num\n",
    "                count1 = 1\n",
    "            \n",
    "            elif count2 == 0:\n",
    "                cand2 = num\n",
    "                count2 = 1\n",
    "\n",
    "            else:\n",
    "                count1 -= 1\n",
    "                count2 -= 1\n",
    "\n",
    "        # Verify \n",
    "        result = []\n",
    "        for cand in [cand1, cand2]:\n",
    "            if cand is not None and nums.count(cand) > len(nums) // 3:\n",
    "                result.append(cand)\n",
    "        \n",
    "        return result\n",
    "    \n",
    "sol = Solution()\n",
    "sol.majorityElement(nums= [3,2,3])\n"
   ]
  },
  {
   "cell_type": "code",
   "execution_count": null,
   "id": "649adcfb",
   "metadata": {},
   "outputs": [],
   "source": []
  },
  {
   "cell_type": "code",
   "execution_count": null,
   "id": "244e3321",
   "metadata": {},
   "outputs": [],
   "source": []
  }
 ],
 "metadata": {
  "kernelspec": {
   "display_name": "general",
   "language": "python",
   "name": "python3"
  },
  "language_info": {
   "codemirror_mode": {
    "name": "ipython",
    "version": 3
   },
   "file_extension": ".py",
   "mimetype": "text/x-python",
   "name": "python",
   "nbconvert_exporter": "python",
   "pygments_lexer": "ipython3",
   "version": "3.11.13"
  }
 },
 "nbformat": 4,
 "nbformat_minor": 5
}
