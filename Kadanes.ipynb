{
 "cells": [
  {
   "cell_type": "markdown",
   "id": "33f9afd4",
   "metadata": {},
   "source": [
    "### 📌 Max Sum Subarray"
   ]
  },
  {
   "cell_type": "code",
   "execution_count": null,
   "id": "0387080f",
   "metadata": {},
   "outputs": [],
   "source": [
    "class Solution:\n",
    "    def maxSubArray(self, nums: List[int]) -> int:\n",
    "        # Initialise max_sum_till_now current_sum\n",
    "        max_sum_till_now = nums[0]\n",
    "        current_sum = nums[0]\n",
    "\n",
    "        for i in range(1, len(nums)):\n",
    "            max_sum_till_now = max(nums[i], max_sum_till_now + nums[i])\n",
    "            current_sum = max(current_sum, max_sum_till_now)\n",
    "\n",
    "        return current_sum"
   ]
  },
  {
   "cell_type": "markdown",
   "id": "0bb2d38b",
   "metadata": {},
   "source": [
    "### 📌 Max Product Subarray"
   ]
  },
  {
   "cell_type": "code",
   "execution_count": null,
   "id": "2ce4c3fa",
   "metadata": {},
   "outputs": [],
   "source": [
    "class Solution:\n",
    "    def maxProduct(self, nums: List[int]) -> int:\n",
    "        # Initialize two variables current_max and overall_max \n",
    "        max_p = nums[0]\n",
    "        min_p = nums[0]\n",
    "        result = nums[0]\n",
    "\n",
    "        for i in range(1, len(nums)):\n",
    "            temp_min_p = min(nums[i], nums[i]*min_p, nums[i]*max_p)\n",
    "            temp_max_p = max(nums[i], nums[i]*max_p, nums[i]*min_p)\n",
    "\n",
    "            min_p, max_p = temp_min_p, temp_max_p\n",
    "\n",
    "            result = max(max_p, result)\n",
    "\n",
    "        return result"
   ]
  },
  {
   "cell_type": "code",
   "execution_count": 3,
   "id": "02ec5273",
   "metadata": {},
   "outputs": [
    {
     "name": "stdout",
     "output_type": "stream",
     "text": [
      "3\n",
      "4\n"
     ]
    }
   ],
   "source": [
    "for i in range(3, 5):\n",
    "    print(i)"
   ]
  },
  {
   "cell_type": "code",
   "execution_count": null,
   "id": "640311ac",
   "metadata": {},
   "outputs": [],
   "source": []
  }
 ],
 "metadata": {
  "kernelspec": {
   "display_name": "general",
   "language": "python",
   "name": "python3"
  },
  "language_info": {
   "codemirror_mode": {
    "name": "ipython",
    "version": 3
   },
   "file_extension": ".py",
   "mimetype": "text/x-python",
   "name": "python",
   "nbconvert_exporter": "python",
   "pygments_lexer": "ipython3",
   "version": "3.11.13"
  }
 },
 "nbformat": 4,
 "nbformat_minor": 5
}
