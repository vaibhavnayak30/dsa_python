{
 "cells": [
  {
   "cell_type": "markdown",
   "id": "33f9afd4",
   "metadata": {},
   "source": [
    "### 📌 Max Sum Subarray"
   ]
  },
  {
   "cell_type": "code",
   "execution_count": null,
   "id": "0387080f",
   "metadata": {},
   "outputs": [],
   "source": [
    "class Solution:\n",
    "    def maxSubArray(self, nums: List[int]) -> int:\n",
    "        # Initialise max_sum_till_now current_sum\n",
    "        max_sum_till_now = nums[0]\n",
    "        current_sum = nums[0]\n",
    "\n",
    "        for i in range(1, len(nums)):\n",
    "            max_sum_till_now = max(nums[i], max_sum_till_now + nums[i])\n",
    "            current_sum = max(current_sum, max_sum_till_now)\n",
    "\n",
    "        return current_sum"
   ]
  },
  {
   "cell_type": "markdown",
   "id": "0bb2d38b",
   "metadata": {},
   "source": [
    "### 📌 Max Product Subarray"
   ]
  },
  {
   "cell_type": "code",
   "execution_count": null,
   "id": "2ce4c3fa",
   "metadata": {},
   "outputs": [],
   "source": []
  }
 ],
 "metadata": {
  "kernelspec": {
   "display_name": "general",
   "language": "python",
   "name": "python3"
  },
  "language_info": {
   "codemirror_mode": {
    "name": "ipython",
    "version": 3
   },
   "file_extension": ".py",
   "mimetype": "text/x-python",
   "name": "python",
   "nbconvert_exporter": "python",
   "pygments_lexer": "ipython3",
   "version": "3.11.13"
  }
 },
 "nbformat": 4,
 "nbformat_minor": 5
}
